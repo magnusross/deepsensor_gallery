{
 "cells": [
  {
   "cell_type": "markdown",
   "source": [
    "# TaskLoader tour\n",
    "\n",
    "This notebook demonstrates how you can set up `TaskLoader` objects to load different kinds of tasks that can be used to train models that accomplish different objectives. The `TaskLoader` is very flexible and can be used to load tasks for spatial interpolation, forecasting, and downscaling, or some combination of these. The ability to use `TaskLoader`s to automatically compose ConvNP models in TensorFlow or PyTorch adds to the convenience of `deepsensor`.\n",
    "\n",
    "In this notebook, we will demonstrate a few different tasks that can be loaded using `TaskLoader` objects. Antarctic temperature will be our target variable, using gridded ERA5 data and off-grid station data to construct tasks. However, the same principles can be applied to any other target variable and data source, as long as the data is in `xarray` or `pandas` format."
   ],
   "metadata": {
    "collapsed": false
   }
  },
  {
   "cell_type": "markdown",
   "metadata": {},
   "source": [
    "## Imports/set-up"
   ]
  },
  {
   "cell_type": "code",
   "execution_count": 4,
   "metadata": {
    "ExecuteTime": {
     "end_time": "2023-07-05T15:06:35.004635720Z",
     "start_time": "2023-07-05T15:06:34.874701831Z"
    }
   },
   "outputs": [
    {
     "name": "stdout",
     "output_type": "stream",
     "text": [
      "The autoreload extension is already loaded. To reload it, use:\n",
      "  %reload_ext autoreload\n"
     ]
    }
   ],
   "source": [
    "# Load the \"autoreload\" extension so that code can change\n",
    "%load_ext autoreload\n",
    "# Always reload modules so that as you change code in src, it gets loaded\n",
    "%autoreload 2"
   ]
  },
  {
   "cell_type": "code",
   "execution_count": 5,
   "metadata": {
    "ExecuteTime": {
     "end_time": "2023-07-05T15:06:35.018471897Z",
     "start_time": "2023-07-05T15:06:34.993735227Z"
    }
   },
   "outputs": [],
   "source": [
    "import deepsensor.torch as deepsensor\n",
    "# import deepsensor.tensorflow as deepsensor"
   ]
  },
  {
   "cell_type": "code",
   "execution_count": 6,
   "outputs": [],
   "source": [
    "from deepsensor.data.processor import DataProcessor\n",
    "from deepsensor.data.loader import TaskLoader\n",
    "from deepsensor.model.convnp import ConvNP"
   ],
   "metadata": {
    "collapsed": false,
    "ExecuteTime": {
     "end_time": "2023-07-05T15:06:35.056078214Z",
     "start_time": "2023-07-05T15:06:35.014291980Z"
    }
   }
  },
  {
   "cell_type": "code",
   "execution_count": 7,
   "outputs": [],
   "source": [
    "import pandas as pd\n",
    "import xarray as xr\n",
    "\n",
    "import cartopy.crs as ccrs\n",
    "import matplotlib.pyplot as plt\n",
    "import seaborn as sns\n",
    "sns.set_style(\"white\")"
   ],
   "metadata": {
    "collapsed": false,
    "ExecuteTime": {
     "end_time": "2023-07-05T15:06:35.158978877Z",
     "start_time": "2023-07-05T15:06:35.060863835Z"
    }
   }
  },
  {
   "cell_type": "code",
   "execution_count": 8,
   "outputs": [],
   "source": [
    "date = \"2018-01-01\""
   ],
   "metadata": {
    "collapsed": false,
    "ExecuteTime": {
     "end_time": "2023-07-05T15:06:35.201081937Z",
     "start_time": "2023-07-05T15:06:35.161829079Z"
    }
   }
  },
  {
   "cell_type": "markdown",
   "source": [
    "## Load data"
   ],
   "metadata": {
    "collapsed": false
   }
  },
  {
   "cell_type": "code",
   "execution_count": 9,
   "outputs": [
    {
     "data": {
      "text/plain": "<xarray.Dataset>\nDimensions:    (time: 25933, y: 280, x: 280)\nCoordinates:\n  * time       (time) datetime64[ns] 1950-01-01 1950-01-02 ... 2020-12-31\n  * y          (y) float64 3.488e+06 3.462e+06 ... -3.462e+06 -3.488e+06\n  * x          (x) float64 -3.488e+06 -3.462e+06 ... 3.462e+06 3.488e+06\n    dayofyear  (time) int64 dask.array<chunksize=(365,), meta=np.ndarray>\nData variables:\n    t2m        (time, y, x) float32 dask.array<chunksize=(365, 280, 280), meta=np.ndarray>",
      "text/html": "<div><svg style=\"position: absolute; width: 0; height: 0; overflow: hidden\">\n<defs>\n<symbol id=\"icon-database\" viewBox=\"0 0 32 32\">\n<path d=\"M16 0c-8.837 0-16 2.239-16 5v4c0 2.761 7.163 5 16 5s16-2.239 16-5v-4c0-2.761-7.163-5-16-5z\"></path>\n<path d=\"M16 17c-8.837 0-16-2.239-16-5v6c0 2.761 7.163 5 16 5s16-2.239 16-5v-6c0 2.761-7.163 5-16 5z\"></path>\n<path d=\"M16 26c-8.837 0-16-2.239-16-5v6c0 2.761 7.163 5 16 5s16-2.239 16-5v-6c0 2.761-7.163 5-16 5z\"></path>\n</symbol>\n<symbol id=\"icon-file-text2\" viewBox=\"0 0 32 32\">\n<path d=\"M28.681 7.159c-0.694-0.947-1.662-2.053-2.724-3.116s-2.169-2.030-3.116-2.724c-1.612-1.182-2.393-1.319-2.841-1.319h-15.5c-1.378 0-2.5 1.121-2.5 2.5v27c0 1.378 1.122 2.5 2.5 2.5h23c1.378 0 2.5-1.122 2.5-2.5v-19.5c0-0.448-0.137-1.23-1.319-2.841zM24.543 5.457c0.959 0.959 1.712 1.825 2.268 2.543h-4.811v-4.811c0.718 0.556 1.584 1.309 2.543 2.268zM28 29.5c0 0.271-0.229 0.5-0.5 0.5h-23c-0.271 0-0.5-0.229-0.5-0.5v-27c0-0.271 0.229-0.5 0.5-0.5 0 0 15.499-0 15.5 0v7c0 0.552 0.448 1 1 1h7v19.5z\"></path>\n<path d=\"M23 26h-14c-0.552 0-1-0.448-1-1s0.448-1 1-1h14c0.552 0 1 0.448 1 1s-0.448 1-1 1z\"></path>\n<path d=\"M23 22h-14c-0.552 0-1-0.448-1-1s0.448-1 1-1h14c0.552 0 1 0.448 1 1s-0.448 1-1 1z\"></path>\n<path d=\"M23 18h-14c-0.552 0-1-0.448-1-1s0.448-1 1-1h14c0.552 0 1 0.448 1 1s-0.448 1-1 1z\"></path>\n</symbol>\n</defs>\n</svg>\n<style>/* CSS stylesheet for displaying xarray objects in jupyterlab.\n *\n */\n\n:root {\n  --xr-font-color0: var(--jp-content-font-color0, rgba(0, 0, 0, 1));\n  --xr-font-color2: var(--jp-content-font-color2, rgba(0, 0, 0, 0.54));\n  --xr-font-color3: var(--jp-content-font-color3, rgba(0, 0, 0, 0.38));\n  --xr-border-color: var(--jp-border-color2, #e0e0e0);\n  --xr-disabled-color: var(--jp-layout-color3, #bdbdbd);\n  --xr-background-color: var(--jp-layout-color0, white);\n  --xr-background-color-row-even: var(--jp-layout-color1, white);\n  --xr-background-color-row-odd: var(--jp-layout-color2, #eeeeee);\n}\n\nhtml[theme=dark],\nbody[data-theme=dark],\nbody.vscode-dark {\n  --xr-font-color0: rgba(255, 255, 255, 1);\n  --xr-font-color2: rgba(255, 255, 255, 0.54);\n  --xr-font-color3: rgba(255, 255, 255, 0.38);\n  --xr-border-color: #1F1F1F;\n  --xr-disabled-color: #515151;\n  --xr-background-color: #111111;\n  --xr-background-color-row-even: #111111;\n  --xr-background-color-row-odd: #313131;\n}\n\n.xr-wrap {\n  display: block !important;\n  min-width: 300px;\n  max-width: 700px;\n}\n\n.xr-text-repr-fallback {\n  /* fallback to plain text repr when CSS is not injected (untrusted notebook) */\n  display: none;\n}\n\n.xr-header {\n  padding-top: 6px;\n  padding-bottom: 6px;\n  margin-bottom: 4px;\n  border-bottom: solid 1px var(--xr-border-color);\n}\n\n.xr-header > div,\n.xr-header > ul {\n  display: inline;\n  margin-top: 0;\n  margin-bottom: 0;\n}\n\n.xr-obj-type,\n.xr-array-name {\n  margin-left: 2px;\n  margin-right: 10px;\n}\n\n.xr-obj-type {\n  color: var(--xr-font-color2);\n}\n\n.xr-sections {\n  padding-left: 0 !important;\n  display: grid;\n  grid-template-columns: 150px auto auto 1fr 20px 20px;\n}\n\n.xr-section-item {\n  display: contents;\n}\n\n.xr-section-item input {\n  display: none;\n}\n\n.xr-section-item input + label {\n  color: var(--xr-disabled-color);\n}\n\n.xr-section-item input:enabled + label {\n  cursor: pointer;\n  color: var(--xr-font-color2);\n}\n\n.xr-section-item input:enabled + label:hover {\n  color: var(--xr-font-color0);\n}\n\n.xr-section-summary {\n  grid-column: 1;\n  color: var(--xr-font-color2);\n  font-weight: 500;\n}\n\n.xr-section-summary > span {\n  display: inline-block;\n  padding-left: 0.5em;\n}\n\n.xr-section-summary-in:disabled + label {\n  color: var(--xr-font-color2);\n}\n\n.xr-section-summary-in + label:before {\n  display: inline-block;\n  content: '►';\n  font-size: 11px;\n  width: 15px;\n  text-align: center;\n}\n\n.xr-section-summary-in:disabled + label:before {\n  color: var(--xr-disabled-color);\n}\n\n.xr-section-summary-in:checked + label:before {\n  content: '▼';\n}\n\n.xr-section-summary-in:checked + label > span {\n  display: none;\n}\n\n.xr-section-summary,\n.xr-section-inline-details {\n  padding-top: 4px;\n  padding-bottom: 4px;\n}\n\n.xr-section-inline-details {\n  grid-column: 2 / -1;\n}\n\n.xr-section-details {\n  display: none;\n  grid-column: 1 / -1;\n  margin-bottom: 5px;\n}\n\n.xr-section-summary-in:checked ~ .xr-section-details {\n  display: contents;\n}\n\n.xr-array-wrap {\n  grid-column: 1 / -1;\n  display: grid;\n  grid-template-columns: 20px auto;\n}\n\n.xr-array-wrap > label {\n  grid-column: 1;\n  vertical-align: top;\n}\n\n.xr-preview {\n  color: var(--xr-font-color3);\n}\n\n.xr-array-preview,\n.xr-array-data {\n  padding: 0 5px !important;\n  grid-column: 2;\n}\n\n.xr-array-data,\n.xr-array-in:checked ~ .xr-array-preview {\n  display: none;\n}\n\n.xr-array-in:checked ~ .xr-array-data,\n.xr-array-preview {\n  display: inline-block;\n}\n\n.xr-dim-list {\n  display: inline-block !important;\n  list-style: none;\n  padding: 0 !important;\n  margin: 0;\n}\n\n.xr-dim-list li {\n  display: inline-block;\n  padding: 0;\n  margin: 0;\n}\n\n.xr-dim-list:before {\n  content: '(';\n}\n\n.xr-dim-list:after {\n  content: ')';\n}\n\n.xr-dim-list li:not(:last-child):after {\n  content: ',';\n  padding-right: 5px;\n}\n\n.xr-has-index {\n  font-weight: bold;\n}\n\n.xr-var-list,\n.xr-var-item {\n  display: contents;\n}\n\n.xr-var-item > div,\n.xr-var-item label,\n.xr-var-item > .xr-var-name span {\n  background-color: var(--xr-background-color-row-even);\n  margin-bottom: 0;\n}\n\n.xr-var-item > .xr-var-name:hover span {\n  padding-right: 5px;\n}\n\n.xr-var-list > li:nth-child(odd) > div,\n.xr-var-list > li:nth-child(odd) > label,\n.xr-var-list > li:nth-child(odd) > .xr-var-name span {\n  background-color: var(--xr-background-color-row-odd);\n}\n\n.xr-var-name {\n  grid-column: 1;\n}\n\n.xr-var-dims {\n  grid-column: 2;\n}\n\n.xr-var-dtype {\n  grid-column: 3;\n  text-align: right;\n  color: var(--xr-font-color2);\n}\n\n.xr-var-preview {\n  grid-column: 4;\n}\n\n.xr-index-preview {\n  grid-column: 2 / 5;\n  color: var(--xr-font-color2);\n}\n\n.xr-var-name,\n.xr-var-dims,\n.xr-var-dtype,\n.xr-preview,\n.xr-attrs dt {\n  white-space: nowrap;\n  overflow: hidden;\n  text-overflow: ellipsis;\n  padding-right: 10px;\n}\n\n.xr-var-name:hover,\n.xr-var-dims:hover,\n.xr-var-dtype:hover,\n.xr-attrs dt:hover {\n  overflow: visible;\n  width: auto;\n  z-index: 1;\n}\n\n.xr-var-attrs,\n.xr-var-data,\n.xr-index-data {\n  display: none;\n  background-color: var(--xr-background-color) !important;\n  padding-bottom: 5px !important;\n}\n\n.xr-var-attrs-in:checked ~ .xr-var-attrs,\n.xr-var-data-in:checked ~ .xr-var-data,\n.xr-index-data-in:checked ~ .xr-index-data {\n  display: block;\n}\n\n.xr-var-data > table {\n  float: right;\n}\n\n.xr-var-name span,\n.xr-var-data,\n.xr-index-name div,\n.xr-index-data,\n.xr-attrs {\n  padding-left: 25px !important;\n}\n\n.xr-attrs,\n.xr-var-attrs,\n.xr-var-data,\n.xr-index-data {\n  grid-column: 1 / -1;\n}\n\ndl.xr-attrs {\n  padding: 0;\n  margin: 0;\n  display: grid;\n  grid-template-columns: 125px auto;\n}\n\n.xr-attrs dt,\n.xr-attrs dd {\n  padding: 0;\n  margin: 0;\n  float: left;\n  padding-right: 10px;\n  width: auto;\n}\n\n.xr-attrs dt {\n  font-weight: normal;\n  grid-column: 1;\n}\n\n.xr-attrs dt:hover span {\n  display: inline-block;\n  background: var(--xr-background-color);\n  padding-right: 10px;\n}\n\n.xr-attrs dd {\n  grid-column: 2;\n  white-space: pre-wrap;\n  word-break: break-all;\n}\n\n.xr-icon-database,\n.xr-icon-file-text2,\n.xr-no-icon {\n  display: inline-block;\n  vertical-align: middle;\n  width: 1em;\n  height: 1.5em !important;\n  stroke-width: 0;\n  stroke: currentColor;\n  fill: currentColor;\n}\n</style><pre class='xr-text-repr-fallback'>&lt;xarray.Dataset&gt;\nDimensions:    (time: 25933, y: 280, x: 280)\nCoordinates:\n  * time       (time) datetime64[ns] 1950-01-01 1950-01-02 ... 2020-12-31\n  * y          (y) float64 3.488e+06 3.462e+06 ... -3.462e+06 -3.488e+06\n  * x          (x) float64 -3.488e+06 -3.462e+06 ... 3.462e+06 3.488e+06\n    dayofyear  (time) int64 dask.array&lt;chunksize=(365,), meta=np.ndarray&gt;\nData variables:\n    t2m        (time, y, x) float32 dask.array&lt;chunksize=(365, 280, 280), meta=np.ndarray&gt;</pre><div class='xr-wrap' style='display:none'><div class='xr-header'><div class='xr-obj-type'>xarray.Dataset</div></div><ul class='xr-sections'><li class='xr-section-item'><input id='section-7f74e9a5-21e3-40a9-9945-9fc8dfd8a216' class='xr-section-summary-in' type='checkbox' disabled ><label for='section-7f74e9a5-21e3-40a9-9945-9fc8dfd8a216' class='xr-section-summary'  title='Expand/collapse section'>Dimensions:</label><div class='xr-section-inline-details'><ul class='xr-dim-list'><li><span class='xr-has-index'>time</span>: 25933</li><li><span class='xr-has-index'>y</span>: 280</li><li><span class='xr-has-index'>x</span>: 280</li></ul></div><div class='xr-section-details'></div></li><li class='xr-section-item'><input id='section-3111f80b-a09d-4a08-80e4-495fe9b2bcc6' class='xr-section-summary-in' type='checkbox'  checked><label for='section-3111f80b-a09d-4a08-80e4-495fe9b2bcc6' class='xr-section-summary' >Coordinates: <span>(4)</span></label><div class='xr-section-inline-details'></div><div class='xr-section-details'><ul class='xr-var-list'><li class='xr-var-item'><div class='xr-var-name'><span class='xr-has-index'>time</span></div><div class='xr-var-dims'>(time)</div><div class='xr-var-dtype'>datetime64[ns]</div><div class='xr-var-preview xr-preview'>1950-01-01 ... 2020-12-31</div><input id='attrs-a06fdb6f-88a7-45ec-babb-3297012fdc5d' class='xr-var-attrs-in' type='checkbox' ><label for='attrs-a06fdb6f-88a7-45ec-babb-3297012fdc5d' title='Show/Hide attributes'><svg class='icon xr-icon-file-text2'><use xlink:href='#icon-file-text2'></use></svg></label><input id='data-3f89df19-610c-4fe9-a541-6fada3394e9d' class='xr-var-data-in' type='checkbox'><label for='data-3f89df19-610c-4fe9-a541-6fada3394e9d' title='Show/Hide data repr'><svg class='icon xr-icon-database'><use xlink:href='#icon-database'></use></svg></label><div class='xr-var-attrs'><dl class='xr-attrs'><dt><span>axis :</span></dt><dd>T</dd><dt><span>standard_name :</span></dt><dd>time</dd></dl></div><div class='xr-var-data'><pre>array([&#x27;1950-01-01T00:00:00.000000000&#x27;, &#x27;1950-01-02T00:00:00.000000000&#x27;,\n       &#x27;1950-01-03T00:00:00.000000000&#x27;, ..., &#x27;2020-12-29T00:00:00.000000000&#x27;,\n       &#x27;2020-12-30T00:00:00.000000000&#x27;, &#x27;2020-12-31T00:00:00.000000000&#x27;],\n      dtype=&#x27;datetime64[ns]&#x27;)</pre></div></li><li class='xr-var-item'><div class='xr-var-name'><span class='xr-has-index'>y</span></div><div class='xr-var-dims'>(y)</div><div class='xr-var-dtype'>float64</div><div class='xr-var-preview xr-preview'>3.488e+06 3.462e+06 ... -3.488e+06</div><input id='attrs-f364c287-ff88-48eb-a643-4be0dd5e182f' class='xr-var-attrs-in' type='checkbox' ><label for='attrs-f364c287-ff88-48eb-a643-4be0dd5e182f' title='Show/Hide attributes'><svg class='icon xr-icon-file-text2'><use xlink:href='#icon-file-text2'></use></svg></label><input id='data-b60bb053-a2c7-4d7f-856b-9ec65f16c866' class='xr-var-data-in' type='checkbox'><label for='data-b60bb053-a2c7-4d7f-856b-9ec65f16c866' title='Show/Hide data repr'><svg class='icon xr-icon-database'><use xlink:href='#icon-database'></use></svg></label><div class='xr-var-attrs'><dl class='xr-attrs'><dt><span>axis :</span></dt><dd>Y</dd><dt><span>units :</span></dt><dd>m</dd><dt><span>standard_name :</span></dt><dd>projection_y_coordinate</dd><dt><span>long_name :</span></dt><dd>y coordinate of projection (northings)</dd></dl></div><div class='xr-var-data'><pre>array([ 3487500.,  3462500.,  3437500., ..., -3437500., -3462500., -3487500.])</pre></div></li><li class='xr-var-item'><div class='xr-var-name'><span class='xr-has-index'>x</span></div><div class='xr-var-dims'>(x)</div><div class='xr-var-dtype'>float64</div><div class='xr-var-preview xr-preview'>-3.488e+06 -3.462e+06 ... 3.488e+06</div><input id='attrs-30042a0c-7f01-459f-9774-e5d1641df657' class='xr-var-attrs-in' type='checkbox' ><label for='attrs-30042a0c-7f01-459f-9774-e5d1641df657' title='Show/Hide attributes'><svg class='icon xr-icon-file-text2'><use xlink:href='#icon-file-text2'></use></svg></label><input id='data-ae28f0fe-64c8-48dc-ae43-e0a44447220a' class='xr-var-data-in' type='checkbox'><label for='data-ae28f0fe-64c8-48dc-ae43-e0a44447220a' title='Show/Hide data repr'><svg class='icon xr-icon-database'><use xlink:href='#icon-database'></use></svg></label><div class='xr-var-attrs'><dl class='xr-attrs'><dt><span>axis :</span></dt><dd>X</dd><dt><span>units :</span></dt><dd>m</dd><dt><span>standard_name :</span></dt><dd>projection_x_coordinate</dd><dt><span>long_name :</span></dt><dd>x coordinate of projection (eastings)</dd></dl></div><div class='xr-var-data'><pre>array([-3487500., -3462500., -3437500., ...,  3437500.,  3462500.,  3487500.])</pre></div></li><li class='xr-var-item'><div class='xr-var-name'><span>dayofyear</span></div><div class='xr-var-dims'>(time)</div><div class='xr-var-dtype'>int64</div><div class='xr-var-preview xr-preview'>dask.array&lt;chunksize=(365,), meta=np.ndarray&gt;</div><input id='attrs-11c3237a-4cf2-4876-acbf-729d33e3bea7' class='xr-var-attrs-in' type='checkbox' disabled><label for='attrs-11c3237a-4cf2-4876-acbf-729d33e3bea7' title='Show/Hide attributes'><svg class='icon xr-icon-file-text2'><use xlink:href='#icon-file-text2'></use></svg></label><input id='data-15049f25-a1dd-495e-971a-0ef19ae5a5bf' class='xr-var-data-in' type='checkbox'><label for='data-15049f25-a1dd-495e-971a-0ef19ae5a5bf' title='Show/Hide data repr'><svg class='icon xr-icon-database'><use xlink:href='#icon-database'></use></svg></label><div class='xr-var-attrs'><dl class='xr-attrs'></dl></div><div class='xr-var-data'><table>\n    <tr>\n        <td>\n            <table style=\"border-collapse: collapse;\">\n                <thead>\n                    <tr>\n                        <td> </td>\n                        <th> Array </th>\n                        <th> Chunk </th>\n                    </tr>\n                </thead>\n                <tbody>\n                    \n                    <tr>\n                        <th> Bytes </th>\n                        <td> 202.60 kiB </td>\n                        <td> 2.86 kiB </td>\n                    </tr>\n                    \n                    <tr>\n                        <th> Shape </th>\n                        <td> (25933,) </td>\n                        <td> (366,) </td>\n                    </tr>\n                    <tr>\n                        <th> Dask graph </th>\n                        <td colspan=\"2\"> 71 chunks in 143 graph layers </td>\n                    </tr>\n                    <tr>\n                        <th> Data type </th>\n                        <td colspan=\"2\"> int64 numpy.ndarray </td>\n                    </tr>\n                </tbody>\n            </table>\n        </td>\n        <td>\n        <svg width=\"170\" height=\"75\" style=\"stroke:rgb(0,0,0);stroke-width:1\" >\n\n  <!-- Horizontal lines -->\n  <line x1=\"0\" y1=\"0\" x2=\"120\" y2=\"0\" style=\"stroke-width:2\" />\n  <line x1=\"0\" y1=\"25\" x2=\"120\" y2=\"25\" style=\"stroke-width:2\" />\n\n  <!-- Vertical lines -->\n  <line x1=\"0\" y1=\"0\" x2=\"0\" y2=\"25\" style=\"stroke-width:2\" />\n  <line x1=\"5\" y1=\"0\" x2=\"5\" y2=\"25\" />\n  <line x1=\"11\" y1=\"0\" x2=\"11\" y2=\"25\" />\n  <line x1=\"18\" y1=\"0\" x2=\"18\" y2=\"25\" />\n  <line x1=\"23\" y1=\"0\" x2=\"23\" y2=\"25\" />\n  <line x1=\"30\" y1=\"0\" x2=\"30\" y2=\"25\" />\n  <line x1=\"37\" y1=\"0\" x2=\"37\" y2=\"25\" />\n  <line x1=\"43\" y1=\"0\" x2=\"43\" y2=\"25\" />\n  <line x1=\"49\" y1=\"0\" x2=\"49\" y2=\"25\" />\n  <line x1=\"55\" y1=\"0\" x2=\"55\" y2=\"25\" />\n  <line x1=\"62\" y1=\"0\" x2=\"62\" y2=\"25\" />\n  <line x1=\"69\" y1=\"0\" x2=\"69\" y2=\"25\" />\n  <line x1=\"74\" y1=\"0\" x2=\"74\" y2=\"25\" />\n  <line x1=\"81\" y1=\"0\" x2=\"81\" y2=\"25\" />\n  <line x1=\"87\" y1=\"0\" x2=\"87\" y2=\"25\" />\n  <line x1=\"94\" y1=\"0\" x2=\"94\" y2=\"25\" />\n  <line x1=\"99\" y1=\"0\" x2=\"99\" y2=\"25\" />\n  <line x1=\"106\" y1=\"0\" x2=\"106\" y2=\"25\" />\n  <line x1=\"113\" y1=\"0\" x2=\"113\" y2=\"25\" />\n  <line x1=\"120\" y1=\"0\" x2=\"120\" y2=\"25\" style=\"stroke-width:2\" />\n\n  <!-- Colored Rectangle -->\n  <polygon points=\"0.0,0.0 120.0,0.0 120.0,25.412616514582485 0.0,25.412616514582485\" style=\"fill:#8B4903A0;stroke-width:0\"/>\n\n  <!-- Text -->\n  <text x=\"60.000000\" y=\"45.412617\" font-size=\"1.0rem\" font-weight=\"100\" text-anchor=\"middle\" >25933</text>\n  <text x=\"140.000000\" y=\"12.706308\" font-size=\"1.0rem\" font-weight=\"100\" text-anchor=\"middle\" transform=\"rotate(0,140.000000,12.706308)\">1</text>\n</svg>\n        </td>\n    </tr>\n</table></div></li></ul></div></li><li class='xr-section-item'><input id='section-836a9d4d-ff57-4536-97e0-9609c5f9c975' class='xr-section-summary-in' type='checkbox'  checked><label for='section-836a9d4d-ff57-4536-97e0-9609c5f9c975' class='xr-section-summary' >Data variables: <span>(1)</span></label><div class='xr-section-inline-details'></div><div class='xr-section-details'><ul class='xr-var-list'><li class='xr-var-item'><div class='xr-var-name'><span>t2m</span></div><div class='xr-var-dims'>(time, y, x)</div><div class='xr-var-dtype'>float32</div><div class='xr-var-preview xr-preview'>dask.array&lt;chunksize=(365, 280, 280), meta=np.ndarray&gt;</div><input id='attrs-fae2fa14-f580-4c20-9c05-eb2fb460d07c' class='xr-var-attrs-in' type='checkbox' disabled><label for='attrs-fae2fa14-f580-4c20-9c05-eb2fb460d07c' title='Show/Hide attributes'><svg class='icon xr-icon-file-text2'><use xlink:href='#icon-file-text2'></use></svg></label><input id='data-aad74ffb-394b-4ead-8414-7a027d567e3b' class='xr-var-data-in' type='checkbox'><label for='data-aad74ffb-394b-4ead-8414-7a027d567e3b' title='Show/Hide data repr'><svg class='icon xr-icon-database'><use xlink:href='#icon-database'></use></svg></label><div class='xr-var-attrs'><dl class='xr-attrs'></dl></div><div class='xr-var-data'><table>\n    <tr>\n        <td>\n            <table style=\"border-collapse: collapse;\">\n                <thead>\n                    <tr>\n                        <td> </td>\n                        <th> Array </th>\n                        <th> Chunk </th>\n                    </tr>\n                </thead>\n                <tbody>\n                    \n                    <tr>\n                        <th> Bytes </th>\n                        <td> 7.57 GiB </td>\n                        <td> 109.46 MiB </td>\n                    </tr>\n                    \n                    <tr>\n                        <th> Shape </th>\n                        <td> (25933, 280, 280) </td>\n                        <td> (366, 280, 280) </td>\n                    </tr>\n                    <tr>\n                        <th> Dask graph </th>\n                        <td colspan=\"2\"> 71 chunks in 143 graph layers </td>\n                    </tr>\n                    <tr>\n                        <th> Data type </th>\n                        <td colspan=\"2\"> float32 numpy.ndarray </td>\n                    </tr>\n                </tbody>\n            </table>\n        </td>\n        <td>\n        <svg width=\"156\" height=\"146\" style=\"stroke:rgb(0,0,0);stroke-width:1\" >\n\n  <!-- Horizontal lines -->\n  <line x1=\"10\" y1=\"0\" x2=\"80\" y2=\"70\" style=\"stroke-width:2\" />\n  <line x1=\"10\" y1=\"25\" x2=\"80\" y2=\"96\" style=\"stroke-width:2\" />\n\n  <!-- Vertical lines -->\n  <line x1=\"10\" y1=\"0\" x2=\"10\" y2=\"25\" style=\"stroke-width:2\" />\n  <line x1=\"12\" y1=\"2\" x2=\"12\" y2=\"28\" />\n  <line x1=\"16\" y1=\"6\" x2=\"16\" y2=\"32\" />\n  <line x1=\"20\" y1=\"10\" x2=\"20\" y2=\"36\" />\n  <line x1=\"23\" y1=\"13\" x2=\"23\" y2=\"39\" />\n  <line x1=\"27\" y1=\"17\" x2=\"27\" y2=\"43\" />\n  <line x1=\"31\" y1=\"21\" x2=\"31\" y2=\"47\" />\n  <line x1=\"35\" y1=\"25\" x2=\"35\" y2=\"51\" />\n  <line x1=\"38\" y1=\"28\" x2=\"38\" y2=\"54\" />\n  <line x1=\"42\" y1=\"32\" x2=\"42\" y2=\"58\" />\n  <line x1=\"46\" y1=\"36\" x2=\"46\" y2=\"62\" />\n  <line x1=\"50\" y1=\"40\" x2=\"50\" y2=\"66\" />\n  <line x1=\"53\" y1=\"43\" x2=\"53\" y2=\"69\" />\n  <line x1=\"57\" y1=\"47\" x2=\"57\" y2=\"73\" />\n  <line x1=\"61\" y1=\"51\" x2=\"61\" y2=\"77\" />\n  <line x1=\"65\" y1=\"55\" x2=\"65\" y2=\"81\" />\n  <line x1=\"68\" y1=\"58\" x2=\"68\" y2=\"84\" />\n  <line x1=\"72\" y1=\"62\" x2=\"72\" y2=\"88\" />\n  <line x1=\"76\" y1=\"66\" x2=\"76\" y2=\"92\" />\n  <line x1=\"80\" y1=\"70\" x2=\"80\" y2=\"96\" style=\"stroke-width:2\" />\n\n  <!-- Colored Rectangle -->\n  <polygon points=\"10.0,0.0 80.58823529411765,70.58823529411765 80.58823529411765,96.3717844409059 10.0,25.78354914678825\" style=\"fill:#8B4903A0;stroke-width:0\"/>\n\n  <!-- Horizontal lines -->\n  <line x1=\"10\" y1=\"0\" x2=\"35\" y2=\"0\" style=\"stroke-width:2\" />\n  <line x1=\"12\" y1=\"2\" x2=\"38\" y2=\"2\" />\n  <line x1=\"16\" y1=\"6\" x2=\"42\" y2=\"6\" />\n  <line x1=\"20\" y1=\"10\" x2=\"46\" y2=\"10\" />\n  <line x1=\"23\" y1=\"13\" x2=\"49\" y2=\"13\" />\n  <line x1=\"27\" y1=\"17\" x2=\"53\" y2=\"17\" />\n  <line x1=\"31\" y1=\"21\" x2=\"57\" y2=\"21\" />\n  <line x1=\"35\" y1=\"25\" x2=\"61\" y2=\"25\" />\n  <line x1=\"38\" y1=\"28\" x2=\"64\" y2=\"28\" />\n  <line x1=\"42\" y1=\"32\" x2=\"68\" y2=\"32\" />\n  <line x1=\"46\" y1=\"36\" x2=\"72\" y2=\"36\" />\n  <line x1=\"50\" y1=\"40\" x2=\"76\" y2=\"40\" />\n  <line x1=\"53\" y1=\"43\" x2=\"79\" y2=\"43\" />\n  <line x1=\"57\" y1=\"47\" x2=\"83\" y2=\"47\" />\n  <line x1=\"61\" y1=\"51\" x2=\"87\" y2=\"51\" />\n  <line x1=\"65\" y1=\"55\" x2=\"91\" y2=\"55\" />\n  <line x1=\"68\" y1=\"58\" x2=\"94\" y2=\"58\" />\n  <line x1=\"72\" y1=\"62\" x2=\"98\" y2=\"62\" />\n  <line x1=\"76\" y1=\"66\" x2=\"102\" y2=\"66\" />\n  <line x1=\"80\" y1=\"70\" x2=\"106\" y2=\"70\" style=\"stroke-width:2\" />\n\n  <!-- Vertical lines -->\n  <line x1=\"10\" y1=\"0\" x2=\"80\" y2=\"70\" style=\"stroke-width:2\" />\n  <line x1=\"35\" y1=\"0\" x2=\"106\" y2=\"70\" style=\"stroke-width:2\" />\n\n  <!-- Colored Rectangle -->\n  <polygon points=\"10.0,0.0 35.783549146788246,0.0 106.3717844409059,70.58823529411765 80.58823529411765,70.58823529411765\" style=\"fill:#8B4903A0;stroke-width:0\"/>\n\n  <!-- Horizontal lines -->\n  <line x1=\"80\" y1=\"70\" x2=\"106\" y2=\"70\" style=\"stroke-width:2\" />\n  <line x1=\"80\" y1=\"96\" x2=\"106\" y2=\"96\" style=\"stroke-width:2\" />\n\n  <!-- Vertical lines -->\n  <line x1=\"80\" y1=\"70\" x2=\"80\" y2=\"96\" style=\"stroke-width:2\" />\n  <line x1=\"106\" y1=\"70\" x2=\"106\" y2=\"96\" style=\"stroke-width:2\" />\n\n  <!-- Colored Rectangle -->\n  <polygon points=\"80.58823529411765,70.58823529411765 106.3717844409059,70.58823529411765 106.3717844409059,96.3717844409059 80.58823529411765,96.3717844409059\" style=\"fill:#ECB172A0;stroke-width:0\"/>\n\n  <!-- Text -->\n  <text x=\"93.480010\" y=\"116.371784\" font-size=\"1.0rem\" font-weight=\"100\" text-anchor=\"middle\" >280</text>\n  <text x=\"126.371784\" y=\"83.480010\" font-size=\"1.0rem\" font-weight=\"100\" text-anchor=\"middle\" transform=\"rotate(-90,126.371784,83.480010)\">280</text>\n  <text x=\"35.294118\" y=\"81.077667\" font-size=\"1.0rem\" font-weight=\"100\" text-anchor=\"middle\" transform=\"rotate(45,35.294118,81.077667)\">25933</text>\n</svg>\n        </td>\n    </tr>\n</table></div></li></ul></div></li><li class='xr-section-item'><input id='section-e4a36721-1625-4d71-864e-f5d5b969eac7' class='xr-section-summary-in' type='checkbox'  ><label for='section-e4a36721-1625-4d71-864e-f5d5b969eac7' class='xr-section-summary' >Indexes: <span>(3)</span></label><div class='xr-section-inline-details'></div><div class='xr-section-details'><ul class='xr-var-list'><li class='xr-var-item'><div class='xr-index-name'><div>time</div></div><div class='xr-index-preview'>PandasIndex</div><div></div><input id='index-416545a0-f24b-4951-9dd0-567422f2fd27' class='xr-index-data-in' type='checkbox'/><label for='index-416545a0-f24b-4951-9dd0-567422f2fd27' title='Show/Hide index repr'><svg class='icon xr-icon-database'><use xlink:href='#icon-database'></use></svg></label><div class='xr-index-data'><pre>PandasIndex(DatetimeIndex([&#x27;1950-01-01&#x27;, &#x27;1950-01-02&#x27;, &#x27;1950-01-03&#x27;, &#x27;1950-01-04&#x27;,\n               &#x27;1950-01-05&#x27;, &#x27;1950-01-06&#x27;, &#x27;1950-01-07&#x27;, &#x27;1950-01-08&#x27;,\n               &#x27;1950-01-09&#x27;, &#x27;1950-01-10&#x27;,\n               ...\n               &#x27;2020-12-22&#x27;, &#x27;2020-12-23&#x27;, &#x27;2020-12-24&#x27;, &#x27;2020-12-25&#x27;,\n               &#x27;2020-12-26&#x27;, &#x27;2020-12-27&#x27;, &#x27;2020-12-28&#x27;, &#x27;2020-12-29&#x27;,\n               &#x27;2020-12-30&#x27;, &#x27;2020-12-31&#x27;],\n              dtype=&#x27;datetime64[ns]&#x27;, name=&#x27;time&#x27;, length=25933, freq=None))</pre></div></li><li class='xr-var-item'><div class='xr-index-name'><div>y</div></div><div class='xr-index-preview'>PandasIndex</div><div></div><input id='index-36144aaf-e9e8-4237-b827-777ed7c90c97' class='xr-index-data-in' type='checkbox'/><label for='index-36144aaf-e9e8-4237-b827-777ed7c90c97' title='Show/Hide index repr'><svg class='icon xr-icon-database'><use xlink:href='#icon-database'></use></svg></label><div class='xr-index-data'><pre>PandasIndex(Index([ 3487500.0,  3462500.0,  3437500.0,  3412500.0,  3387500.0,  3362500.0,\n        3337500.0,  3312500.0,  3287500.0,  3262500.0,\n       ...\n       -3262500.0, -3287500.0, -3312500.0, -3337500.0, -3362500.0, -3387500.0,\n       -3412500.0, -3437500.0, -3462500.0, -3487500.0],\n      dtype=&#x27;float64&#x27;, name=&#x27;y&#x27;, length=280))</pre></div></li><li class='xr-var-item'><div class='xr-index-name'><div>x</div></div><div class='xr-index-preview'>PandasIndex</div><div></div><input id='index-ea241626-cf26-4015-82bf-74e8e4fce029' class='xr-index-data-in' type='checkbox'/><label for='index-ea241626-cf26-4015-82bf-74e8e4fce029' title='Show/Hide index repr'><svg class='icon xr-icon-database'><use xlink:href='#icon-database'></use></svg></label><div class='xr-index-data'><pre>PandasIndex(Index([-3487500.0, -3462500.0, -3437500.0, -3412500.0, -3387500.0, -3362500.0,\n       -3337500.0, -3312500.0, -3287500.0, -3262500.0,\n       ...\n        3262500.0,  3287500.0,  3312500.0,  3337500.0,  3362500.0,  3387500.0,\n        3412500.0,  3437500.0,  3462500.0,  3487500.0],\n      dtype=&#x27;float64&#x27;, name=&#x27;x&#x27;, length=280))</pre></div></li></ul></div></li><li class='xr-section-item'><input id='section-d613d8fd-c70d-4687-9ce6-7302406fb408' class='xr-section-summary-in' type='checkbox' disabled ><label for='section-d613d8fd-c70d-4687-9ce6-7302406fb408' class='xr-section-summary'  title='Expand/collapse section'>Attributes: <span>(0)</span></label><div class='xr-section-inline-details'></div><div class='xr-section-details'><dl class='xr-attrs'></dl></div></li></ul></div></div>"
     },
     "execution_count": 9,
     "metadata": {},
     "output_type": "execute_result"
    }
   ],
   "source": [
    "# era5_raw_ds = xr.open_mfdataset('../../deepsensor_old/data/antarctica/gridded/processed/*/*.nc')\n",
    "era5_raw_ds = xr.open_mfdataset('../../deepsensor_old/data/antarctica/gridded/interim/tas_anom/*.nc')\n",
    "era5_raw_ds"
   ],
   "metadata": {
    "collapsed": false,
    "ExecuteTime": {
     "end_time": "2023-07-05T15:06:36.464584787Z",
     "start_time": "2023-07-05T15:06:35.201271775Z"
    }
   }
  },
  {
   "cell_type": "code",
   "execution_count": 10,
   "outputs": [
    {
     "data": {
      "text/plain": "<xarray.Dataset>\nDimensions:  (y: 280, x: 280)\nCoordinates:\n  * y        (y) float64 3.488e+06 3.462e+06 3.438e+06 ... -3.462e+06 -3.488e+06\n  * x        (x) float64 -3.488e+06 -3.462e+06 ... 3.462e+06 3.488e+06\n    lat      (y, x) float32 dask.array<chunksize=(280, 280), meta=np.ndarray>\n    lon      (y, x) float32 dask.array<chunksize=(280, 280), meta=np.ndarray>\nData variables:\n    surface  (y, x) float32 dask.array<chunksize=(280, 280), meta=np.ndarray>\n    mask     (y, x) float64 dask.array<chunksize=(280, 280), meta=np.ndarray>\nAttributes: (12/19)\n    Author:                      Mathieu Morlighem\n    Data_citation:               Morlighem M. et al., (2019), Deep glacial tr...\n    Notes:                       Data processed at the Department of Earth Sy...\n    Projection:                  Polar Stereographic South (71S,0E)\n    Title:                       BedMachine Antarctica\n    ice_density (kg m-3):        917.0\n    ...                          ...\n    spacing:                     500\n    valid_range:                 [0. 4.]\n    version:                     15-Jul-2020 (v2.0)\n    xmin:                        -3333000\n    ymax:                        3333000\n    Conventions:                 CF-1.7",
      "text/html": "<div><svg style=\"position: absolute; width: 0; height: 0; overflow: hidden\">\n<defs>\n<symbol id=\"icon-database\" viewBox=\"0 0 32 32\">\n<path d=\"M16 0c-8.837 0-16 2.239-16 5v4c0 2.761 7.163 5 16 5s16-2.239 16-5v-4c0-2.761-7.163-5-16-5z\"></path>\n<path d=\"M16 17c-8.837 0-16-2.239-16-5v6c0 2.761 7.163 5 16 5s16-2.239 16-5v-6c0 2.761-7.163 5-16 5z\"></path>\n<path d=\"M16 26c-8.837 0-16-2.239-16-5v6c0 2.761 7.163 5 16 5s16-2.239 16-5v-6c0 2.761-7.163 5-16 5z\"></path>\n</symbol>\n<symbol id=\"icon-file-text2\" viewBox=\"0 0 32 32\">\n<path d=\"M28.681 7.159c-0.694-0.947-1.662-2.053-2.724-3.116s-2.169-2.030-3.116-2.724c-1.612-1.182-2.393-1.319-2.841-1.319h-15.5c-1.378 0-2.5 1.121-2.5 2.5v27c0 1.378 1.122 2.5 2.5 2.5h23c1.378 0 2.5-1.122 2.5-2.5v-19.5c0-0.448-0.137-1.23-1.319-2.841zM24.543 5.457c0.959 0.959 1.712 1.825 2.268 2.543h-4.811v-4.811c0.718 0.556 1.584 1.309 2.543 2.268zM28 29.5c0 0.271-0.229 0.5-0.5 0.5h-23c-0.271 0-0.5-0.229-0.5-0.5v-27c0-0.271 0.229-0.5 0.5-0.5 0 0 15.499-0 15.5 0v7c0 0.552 0.448 1 1 1h7v19.5z\"></path>\n<path d=\"M23 26h-14c-0.552 0-1-0.448-1-1s0.448-1 1-1h14c0.552 0 1 0.448 1 1s-0.448 1-1 1z\"></path>\n<path d=\"M23 22h-14c-0.552 0-1-0.448-1-1s0.448-1 1-1h14c0.552 0 1 0.448 1 1s-0.448 1-1 1z\"></path>\n<path d=\"M23 18h-14c-0.552 0-1-0.448-1-1s0.448-1 1-1h14c0.552 0 1 0.448 1 1s-0.448 1-1 1z\"></path>\n</symbol>\n</defs>\n</svg>\n<style>/* CSS stylesheet for displaying xarray objects in jupyterlab.\n *\n */\n\n:root {\n  --xr-font-color0: var(--jp-content-font-color0, rgba(0, 0, 0, 1));\n  --xr-font-color2: var(--jp-content-font-color2, rgba(0, 0, 0, 0.54));\n  --xr-font-color3: var(--jp-content-font-color3, rgba(0, 0, 0, 0.38));\n  --xr-border-color: var(--jp-border-color2, #e0e0e0);\n  --xr-disabled-color: var(--jp-layout-color3, #bdbdbd);\n  --xr-background-color: var(--jp-layout-color0, white);\n  --xr-background-color-row-even: var(--jp-layout-color1, white);\n  --xr-background-color-row-odd: var(--jp-layout-color2, #eeeeee);\n}\n\nhtml[theme=dark],\nbody[data-theme=dark],\nbody.vscode-dark {\n  --xr-font-color0: rgba(255, 255, 255, 1);\n  --xr-font-color2: rgba(255, 255, 255, 0.54);\n  --xr-font-color3: rgba(255, 255, 255, 0.38);\n  --xr-border-color: #1F1F1F;\n  --xr-disabled-color: #515151;\n  --xr-background-color: #111111;\n  --xr-background-color-row-even: #111111;\n  --xr-background-color-row-odd: #313131;\n}\n\n.xr-wrap {\n  display: block !important;\n  min-width: 300px;\n  max-width: 700px;\n}\n\n.xr-text-repr-fallback {\n  /* fallback to plain text repr when CSS is not injected (untrusted notebook) */\n  display: none;\n}\n\n.xr-header {\n  padding-top: 6px;\n  padding-bottom: 6px;\n  margin-bottom: 4px;\n  border-bottom: solid 1px var(--xr-border-color);\n}\n\n.xr-header > div,\n.xr-header > ul {\n  display: inline;\n  margin-top: 0;\n  margin-bottom: 0;\n}\n\n.xr-obj-type,\n.xr-array-name {\n  margin-left: 2px;\n  margin-right: 10px;\n}\n\n.xr-obj-type {\n  color: var(--xr-font-color2);\n}\n\n.xr-sections {\n  padding-left: 0 !important;\n  display: grid;\n  grid-template-columns: 150px auto auto 1fr 20px 20px;\n}\n\n.xr-section-item {\n  display: contents;\n}\n\n.xr-section-item input {\n  display: none;\n}\n\n.xr-section-item input + label {\n  color: var(--xr-disabled-color);\n}\n\n.xr-section-item input:enabled + label {\n  cursor: pointer;\n  color: var(--xr-font-color2);\n}\n\n.xr-section-item input:enabled + label:hover {\n  color: var(--xr-font-color0);\n}\n\n.xr-section-summary {\n  grid-column: 1;\n  color: var(--xr-font-color2);\n  font-weight: 500;\n}\n\n.xr-section-summary > span {\n  display: inline-block;\n  padding-left: 0.5em;\n}\n\n.xr-section-summary-in:disabled + label {\n  color: var(--xr-font-color2);\n}\n\n.xr-section-summary-in + label:before {\n  display: inline-block;\n  content: '►';\n  font-size: 11px;\n  width: 15px;\n  text-align: center;\n}\n\n.xr-section-summary-in:disabled + label:before {\n  color: var(--xr-disabled-color);\n}\n\n.xr-section-summary-in:checked + label:before {\n  content: '▼';\n}\n\n.xr-section-summary-in:checked + label > span {\n  display: none;\n}\n\n.xr-section-summary,\n.xr-section-inline-details {\n  padding-top: 4px;\n  padding-bottom: 4px;\n}\n\n.xr-section-inline-details {\n  grid-column: 2 / -1;\n}\n\n.xr-section-details {\n  display: none;\n  grid-column: 1 / -1;\n  margin-bottom: 5px;\n}\n\n.xr-section-summary-in:checked ~ .xr-section-details {\n  display: contents;\n}\n\n.xr-array-wrap {\n  grid-column: 1 / -1;\n  display: grid;\n  grid-template-columns: 20px auto;\n}\n\n.xr-array-wrap > label {\n  grid-column: 1;\n  vertical-align: top;\n}\n\n.xr-preview {\n  color: var(--xr-font-color3);\n}\n\n.xr-array-preview,\n.xr-array-data {\n  padding: 0 5px !important;\n  grid-column: 2;\n}\n\n.xr-array-data,\n.xr-array-in:checked ~ .xr-array-preview {\n  display: none;\n}\n\n.xr-array-in:checked ~ .xr-array-data,\n.xr-array-preview {\n  display: inline-block;\n}\n\n.xr-dim-list {\n  display: inline-block !important;\n  list-style: none;\n  padding: 0 !important;\n  margin: 0;\n}\n\n.xr-dim-list li {\n  display: inline-block;\n  padding: 0;\n  margin: 0;\n}\n\n.xr-dim-list:before {\n  content: '(';\n}\n\n.xr-dim-list:after {\n  content: ')';\n}\n\n.xr-dim-list li:not(:last-child):after {\n  content: ',';\n  padding-right: 5px;\n}\n\n.xr-has-index {\n  font-weight: bold;\n}\n\n.xr-var-list,\n.xr-var-item {\n  display: contents;\n}\n\n.xr-var-item > div,\n.xr-var-item label,\n.xr-var-item > .xr-var-name span {\n  background-color: var(--xr-background-color-row-even);\n  margin-bottom: 0;\n}\n\n.xr-var-item > .xr-var-name:hover span {\n  padding-right: 5px;\n}\n\n.xr-var-list > li:nth-child(odd) > div,\n.xr-var-list > li:nth-child(odd) > label,\n.xr-var-list > li:nth-child(odd) > .xr-var-name span {\n  background-color: var(--xr-background-color-row-odd);\n}\n\n.xr-var-name {\n  grid-column: 1;\n}\n\n.xr-var-dims {\n  grid-column: 2;\n}\n\n.xr-var-dtype {\n  grid-column: 3;\n  text-align: right;\n  color: var(--xr-font-color2);\n}\n\n.xr-var-preview {\n  grid-column: 4;\n}\n\n.xr-index-preview {\n  grid-column: 2 / 5;\n  color: var(--xr-font-color2);\n}\n\n.xr-var-name,\n.xr-var-dims,\n.xr-var-dtype,\n.xr-preview,\n.xr-attrs dt {\n  white-space: nowrap;\n  overflow: hidden;\n  text-overflow: ellipsis;\n  padding-right: 10px;\n}\n\n.xr-var-name:hover,\n.xr-var-dims:hover,\n.xr-var-dtype:hover,\n.xr-attrs dt:hover {\n  overflow: visible;\n  width: auto;\n  z-index: 1;\n}\n\n.xr-var-attrs,\n.xr-var-data,\n.xr-index-data {\n  display: none;\n  background-color: var(--xr-background-color) !important;\n  padding-bottom: 5px !important;\n}\n\n.xr-var-attrs-in:checked ~ .xr-var-attrs,\n.xr-var-data-in:checked ~ .xr-var-data,\n.xr-index-data-in:checked ~ .xr-index-data {\n  display: block;\n}\n\n.xr-var-data > table {\n  float: right;\n}\n\n.xr-var-name span,\n.xr-var-data,\n.xr-index-name div,\n.xr-index-data,\n.xr-attrs {\n  padding-left: 25px !important;\n}\n\n.xr-attrs,\n.xr-var-attrs,\n.xr-var-data,\n.xr-index-data {\n  grid-column: 1 / -1;\n}\n\ndl.xr-attrs {\n  padding: 0;\n  margin: 0;\n  display: grid;\n  grid-template-columns: 125px auto;\n}\n\n.xr-attrs dt,\n.xr-attrs dd {\n  padding: 0;\n  margin: 0;\n  float: left;\n  padding-right: 10px;\n  width: auto;\n}\n\n.xr-attrs dt {\n  font-weight: normal;\n  grid-column: 1;\n}\n\n.xr-attrs dt:hover span {\n  display: inline-block;\n  background: var(--xr-background-color);\n  padding-right: 10px;\n}\n\n.xr-attrs dd {\n  grid-column: 2;\n  white-space: pre-wrap;\n  word-break: break-all;\n}\n\n.xr-icon-database,\n.xr-icon-file-text2,\n.xr-no-icon {\n  display: inline-block;\n  vertical-align: middle;\n  width: 1em;\n  height: 1.5em !important;\n  stroke-width: 0;\n  stroke: currentColor;\n  fill: currentColor;\n}\n</style><pre class='xr-text-repr-fallback'>&lt;xarray.Dataset&gt;\nDimensions:  (y: 280, x: 280)\nCoordinates:\n  * y        (y) float64 3.488e+06 3.462e+06 3.438e+06 ... -3.462e+06 -3.488e+06\n  * x        (x) float64 -3.488e+06 -3.462e+06 ... 3.462e+06 3.488e+06\n    lat      (y, x) float32 dask.array&lt;chunksize=(280, 280), meta=np.ndarray&gt;\n    lon      (y, x) float32 dask.array&lt;chunksize=(280, 280), meta=np.ndarray&gt;\nData variables:\n    surface  (y, x) float32 dask.array&lt;chunksize=(280, 280), meta=np.ndarray&gt;\n    mask     (y, x) float64 dask.array&lt;chunksize=(280, 280), meta=np.ndarray&gt;\nAttributes: (12/19)\n    Author:                      Mathieu Morlighem\n    Data_citation:               Morlighem M. et al., (2019), Deep glacial tr...\n    Notes:                       Data processed at the Department of Earth Sy...\n    Projection:                  Polar Stereographic South (71S,0E)\n    Title:                       BedMachine Antarctica\n    ice_density (kg m-3):        917.0\n    ...                          ...\n    spacing:                     500\n    valid_range:                 [0. 4.]\n    version:                     15-Jul-2020 (v2.0)\n    xmin:                        -3333000\n    ymax:                        3333000\n    Conventions:                 CF-1.7</pre><div class='xr-wrap' style='display:none'><div class='xr-header'><div class='xr-obj-type'>xarray.Dataset</div></div><ul class='xr-sections'><li class='xr-section-item'><input id='section-c6a52d9c-4f4e-4f86-b03a-82bf798baec1' class='xr-section-summary-in' type='checkbox' disabled ><label for='section-c6a52d9c-4f4e-4f86-b03a-82bf798baec1' class='xr-section-summary'  title='Expand/collapse section'>Dimensions:</label><div class='xr-section-inline-details'><ul class='xr-dim-list'><li><span class='xr-has-index'>y</span>: 280</li><li><span class='xr-has-index'>x</span>: 280</li></ul></div><div class='xr-section-details'></div></li><li class='xr-section-item'><input id='section-5a324274-f08f-41d4-ac1f-5b054a449d61' class='xr-section-summary-in' type='checkbox'  checked><label for='section-5a324274-f08f-41d4-ac1f-5b054a449d61' class='xr-section-summary' >Coordinates: <span>(4)</span></label><div class='xr-section-inline-details'></div><div class='xr-section-details'><ul class='xr-var-list'><li class='xr-var-item'><div class='xr-var-name'><span class='xr-has-index'>y</span></div><div class='xr-var-dims'>(y)</div><div class='xr-var-dtype'>float64</div><div class='xr-var-preview xr-preview'>3.488e+06 3.462e+06 ... -3.488e+06</div><input id='attrs-860c84a0-a40b-46c1-834f-9b0cc6d1c5d1' class='xr-var-attrs-in' type='checkbox' ><label for='attrs-860c84a0-a40b-46c1-834f-9b0cc6d1c5d1' title='Show/Hide attributes'><svg class='icon xr-icon-file-text2'><use xlink:href='#icon-file-text2'></use></svg></label><input id='data-5f149d4d-952f-4b83-b527-c88ced1417f9' class='xr-var-data-in' type='checkbox'><label for='data-5f149d4d-952f-4b83-b527-c88ced1417f9' title='Show/Hide data repr'><svg class='icon xr-icon-database'><use xlink:href='#icon-database'></use></svg></label><div class='xr-var-attrs'><dl class='xr-attrs'><dt><span>axis :</span></dt><dd>Y</dd><dt><span>units :</span></dt><dd>m</dd><dt><span>standard_name :</span></dt><dd>projection_y_coordinate</dd><dt><span>long_name :</span></dt><dd>y coordinate of projection (northings)</dd></dl></div><div class='xr-var-data'><pre>array([ 3487500.,  3462500.,  3437500., ..., -3437500., -3462500., -3487500.])</pre></div></li><li class='xr-var-item'><div class='xr-var-name'><span class='xr-has-index'>x</span></div><div class='xr-var-dims'>(x)</div><div class='xr-var-dtype'>float64</div><div class='xr-var-preview xr-preview'>-3.488e+06 -3.462e+06 ... 3.488e+06</div><input id='attrs-22f5c78e-6cc4-4666-9187-2b68dd07ea47' class='xr-var-attrs-in' type='checkbox' ><label for='attrs-22f5c78e-6cc4-4666-9187-2b68dd07ea47' title='Show/Hide attributes'><svg class='icon xr-icon-file-text2'><use xlink:href='#icon-file-text2'></use></svg></label><input id='data-02a7607a-d038-4377-b8ee-bc9afbd63a3e' class='xr-var-data-in' type='checkbox'><label for='data-02a7607a-d038-4377-b8ee-bc9afbd63a3e' title='Show/Hide data repr'><svg class='icon xr-icon-database'><use xlink:href='#icon-database'></use></svg></label><div class='xr-var-attrs'><dl class='xr-attrs'><dt><span>axis :</span></dt><dd>X</dd><dt><span>units :</span></dt><dd>m</dd><dt><span>standard_name :</span></dt><dd>projection_x_coordinate</dd><dt><span>long_name :</span></dt><dd>x coordinate of projection (eastings)</dd></dl></div><div class='xr-var-data'><pre>array([-3487500., -3462500., -3437500., ...,  3437500.,  3462500.,  3487500.])</pre></div></li><li class='xr-var-item'><div class='xr-var-name'><span>lat</span></div><div class='xr-var-dims'>(y, x)</div><div class='xr-var-dtype'>float32</div><div class='xr-var-preview xr-preview'>dask.array&lt;chunksize=(280, 280), meta=np.ndarray&gt;</div><input id='attrs-51d6dab1-b492-4c5f-a098-40c831d5b416' class='xr-var-attrs-in' type='checkbox' ><label for='attrs-51d6dab1-b492-4c5f-a098-40c831d5b416' title='Show/Hide attributes'><svg class='icon xr-icon-file-text2'><use xlink:href='#icon-file-text2'></use></svg></label><input id='data-fcdb221f-e37d-49e0-a950-13f6ebb0be9d' class='xr-var-data-in' type='checkbox'><label for='data-fcdb221f-e37d-49e0-a950-13f6ebb0be9d' title='Show/Hide data repr'><svg class='icon xr-icon-database'><use xlink:href='#icon-database'></use></svg></label><div class='xr-var-attrs'><dl class='xr-attrs'><dt><span>units :</span></dt><dd>degrees_north</dd><dt><span>standard_name :</span></dt><dd>latitude</dd><dt><span>long_name :</span></dt><dd>latitude coordinate</dd></dl></div><div class='xr-var-data'><table>\n    <tr>\n        <td>\n            <table style=\"border-collapse: collapse;\">\n                <thead>\n                    <tr>\n                        <td> </td>\n                        <th> Array </th>\n                        <th> Chunk </th>\n                    </tr>\n                </thead>\n                <tbody>\n                    \n                    <tr>\n                        <th> Bytes </th>\n                        <td> 306.25 kiB </td>\n                        <td> 306.25 kiB </td>\n                    </tr>\n                    \n                    <tr>\n                        <th> Shape </th>\n                        <td> (280, 280) </td>\n                        <td> (280, 280) </td>\n                    </tr>\n                    <tr>\n                        <th> Dask graph </th>\n                        <td colspan=\"2\"> 1 chunks in 5 graph layers </td>\n                    </tr>\n                    <tr>\n                        <th> Data type </th>\n                        <td colspan=\"2\"> float32 numpy.ndarray </td>\n                    </tr>\n                </tbody>\n            </table>\n        </td>\n        <td>\n        <svg width=\"170\" height=\"170\" style=\"stroke:rgb(0,0,0);stroke-width:1\" >\n\n  <!-- Horizontal lines -->\n  <line x1=\"0\" y1=\"0\" x2=\"120\" y2=\"0\" style=\"stroke-width:2\" />\n  <line x1=\"0\" y1=\"120\" x2=\"120\" y2=\"120\" style=\"stroke-width:2\" />\n\n  <!-- Vertical lines -->\n  <line x1=\"0\" y1=\"0\" x2=\"0\" y2=\"120\" style=\"stroke-width:2\" />\n  <line x1=\"120\" y1=\"0\" x2=\"120\" y2=\"120\" style=\"stroke-width:2\" />\n\n  <!-- Colored Rectangle -->\n  <polygon points=\"0.0,0.0 120.0,0.0 120.0,120.0 0.0,120.0\" style=\"fill:#ECB172A0;stroke-width:0\"/>\n\n  <!-- Text -->\n  <text x=\"60.000000\" y=\"140.000000\" font-size=\"1.0rem\" font-weight=\"100\" text-anchor=\"middle\" >280</text>\n  <text x=\"140.000000\" y=\"60.000000\" font-size=\"1.0rem\" font-weight=\"100\" text-anchor=\"middle\" transform=\"rotate(-90,140.000000,60.000000)\">280</text>\n</svg>\n        </td>\n    </tr>\n</table></div></li><li class='xr-var-item'><div class='xr-var-name'><span>lon</span></div><div class='xr-var-dims'>(y, x)</div><div class='xr-var-dtype'>float32</div><div class='xr-var-preview xr-preview'>dask.array&lt;chunksize=(280, 280), meta=np.ndarray&gt;</div><input id='attrs-2a7f419e-4d76-4ee1-96db-633e571eca4b' class='xr-var-attrs-in' type='checkbox' ><label for='attrs-2a7f419e-4d76-4ee1-96db-633e571eca4b' title='Show/Hide attributes'><svg class='icon xr-icon-file-text2'><use xlink:href='#icon-file-text2'></use></svg></label><input id='data-adaf8782-9a03-47c3-b1b6-597d1fbc8569' class='xr-var-data-in' type='checkbox'><label for='data-adaf8782-9a03-47c3-b1b6-597d1fbc8569' title='Show/Hide data repr'><svg class='icon xr-icon-database'><use xlink:href='#icon-database'></use></svg></label><div class='xr-var-attrs'><dl class='xr-attrs'><dt><span>units :</span></dt><dd>degrees_east</dd><dt><span>standard_name :</span></dt><dd>longitude</dd><dt><span>long_name :</span></dt><dd>longitude coordinate</dd></dl></div><div class='xr-var-data'><table>\n    <tr>\n        <td>\n            <table style=\"border-collapse: collapse;\">\n                <thead>\n                    <tr>\n                        <td> </td>\n                        <th> Array </th>\n                        <th> Chunk </th>\n                    </tr>\n                </thead>\n                <tbody>\n                    \n                    <tr>\n                        <th> Bytes </th>\n                        <td> 306.25 kiB </td>\n                        <td> 306.25 kiB </td>\n                    </tr>\n                    \n                    <tr>\n                        <th> Shape </th>\n                        <td> (280, 280) </td>\n                        <td> (280, 280) </td>\n                    </tr>\n                    <tr>\n                        <th> Dask graph </th>\n                        <td colspan=\"2\"> 1 chunks in 5 graph layers </td>\n                    </tr>\n                    <tr>\n                        <th> Data type </th>\n                        <td colspan=\"2\"> float32 numpy.ndarray </td>\n                    </tr>\n                </tbody>\n            </table>\n        </td>\n        <td>\n        <svg width=\"170\" height=\"170\" style=\"stroke:rgb(0,0,0);stroke-width:1\" >\n\n  <!-- Horizontal lines -->\n  <line x1=\"0\" y1=\"0\" x2=\"120\" y2=\"0\" style=\"stroke-width:2\" />\n  <line x1=\"0\" y1=\"120\" x2=\"120\" y2=\"120\" style=\"stroke-width:2\" />\n\n  <!-- Vertical lines -->\n  <line x1=\"0\" y1=\"0\" x2=\"0\" y2=\"120\" style=\"stroke-width:2\" />\n  <line x1=\"120\" y1=\"0\" x2=\"120\" y2=\"120\" style=\"stroke-width:2\" />\n\n  <!-- Colored Rectangle -->\n  <polygon points=\"0.0,0.0 120.0,0.0 120.0,120.0 0.0,120.0\" style=\"fill:#ECB172A0;stroke-width:0\"/>\n\n  <!-- Text -->\n  <text x=\"60.000000\" y=\"140.000000\" font-size=\"1.0rem\" font-weight=\"100\" text-anchor=\"middle\" >280</text>\n  <text x=\"140.000000\" y=\"60.000000\" font-size=\"1.0rem\" font-weight=\"100\" text-anchor=\"middle\" transform=\"rotate(-90,140.000000,60.000000)\">280</text>\n</svg>\n        </td>\n    </tr>\n</table></div></li></ul></div></li><li class='xr-section-item'><input id='section-480e2c7d-36b9-4f9d-b933-02735c934d39' class='xr-section-summary-in' type='checkbox'  checked><label for='section-480e2c7d-36b9-4f9d-b933-02735c934d39' class='xr-section-summary' >Data variables: <span>(2)</span></label><div class='xr-section-inline-details'></div><div class='xr-section-details'><ul class='xr-var-list'><li class='xr-var-item'><div class='xr-var-name'><span>surface</span></div><div class='xr-var-dims'>(y, x)</div><div class='xr-var-dtype'>float32</div><div class='xr-var-preview xr-preview'>dask.array&lt;chunksize=(280, 280), meta=np.ndarray&gt;</div><input id='attrs-584bb4de-313d-4294-8ba5-67428d6a5396' class='xr-var-attrs-in' type='checkbox' ><label for='attrs-584bb4de-313d-4294-8ba5-67428d6a5396' title='Show/Hide attributes'><svg class='icon xr-icon-file-text2'><use xlink:href='#icon-file-text2'></use></svg></label><input id='data-b22f139e-5373-4834-a7f1-872c3b09caf1' class='xr-var-data-in' type='checkbox'><label for='data-b22f139e-5373-4834-a7f1-872c3b09caf1' title='Show/Hide data repr'><svg class='icon xr-icon-database'><use xlink:href='#icon-database'></use></svg></label><div class='xr-var-attrs'><dl class='xr-attrs'><dt><span>standard_name :</span></dt><dd>surface_altitude</dd><dt><span>long_name :</span></dt><dd>ice surface elevation</dd><dt><span>units :</span></dt><dd>meters</dd><dt><span>grid_mapping :</span></dt><dd>lambert_azimuthal_equal_area</dd></dl></div><div class='xr-var-data'><table>\n    <tr>\n        <td>\n            <table style=\"border-collapse: collapse;\">\n                <thead>\n                    <tr>\n                        <td> </td>\n                        <th> Array </th>\n                        <th> Chunk </th>\n                    </tr>\n                </thead>\n                <tbody>\n                    \n                    <tr>\n                        <th> Bytes </th>\n                        <td> 306.25 kiB </td>\n                        <td> 306.25 kiB </td>\n                    </tr>\n                    \n                    <tr>\n                        <th> Shape </th>\n                        <td> (280, 280) </td>\n                        <td> (280, 280) </td>\n                    </tr>\n                    <tr>\n                        <th> Dask graph </th>\n                        <td colspan=\"2\"> 1 chunks in 2 graph layers </td>\n                    </tr>\n                    <tr>\n                        <th> Data type </th>\n                        <td colspan=\"2\"> float32 numpy.ndarray </td>\n                    </tr>\n                </tbody>\n            </table>\n        </td>\n        <td>\n        <svg width=\"170\" height=\"170\" style=\"stroke:rgb(0,0,0);stroke-width:1\" >\n\n  <!-- Horizontal lines -->\n  <line x1=\"0\" y1=\"0\" x2=\"120\" y2=\"0\" style=\"stroke-width:2\" />\n  <line x1=\"0\" y1=\"120\" x2=\"120\" y2=\"120\" style=\"stroke-width:2\" />\n\n  <!-- Vertical lines -->\n  <line x1=\"0\" y1=\"0\" x2=\"0\" y2=\"120\" style=\"stroke-width:2\" />\n  <line x1=\"120\" y1=\"0\" x2=\"120\" y2=\"120\" style=\"stroke-width:2\" />\n\n  <!-- Colored Rectangle -->\n  <polygon points=\"0.0,0.0 120.0,0.0 120.0,120.0 0.0,120.0\" style=\"fill:#ECB172A0;stroke-width:0\"/>\n\n  <!-- Text -->\n  <text x=\"60.000000\" y=\"140.000000\" font-size=\"1.0rem\" font-weight=\"100\" text-anchor=\"middle\" >280</text>\n  <text x=\"140.000000\" y=\"60.000000\" font-size=\"1.0rem\" font-weight=\"100\" text-anchor=\"middle\" transform=\"rotate(-90,140.000000,60.000000)\">280</text>\n</svg>\n        </td>\n    </tr>\n</table></div></li><li class='xr-var-item'><div class='xr-var-name'><span>mask</span></div><div class='xr-var-dims'>(y, x)</div><div class='xr-var-dtype'>float64</div><div class='xr-var-preview xr-preview'>dask.array&lt;chunksize=(280, 280), meta=np.ndarray&gt;</div><input id='attrs-9561acca-2380-4e6a-a86f-957ca5791e14' class='xr-var-attrs-in' type='checkbox' ><label for='attrs-9561acca-2380-4e6a-a86f-957ca5791e14' title='Show/Hide attributes'><svg class='icon xr-icon-file-text2'><use xlink:href='#icon-file-text2'></use></svg></label><input id='data-d8c1b594-2548-46ce-b167-974879f4dee4' class='xr-var-data-in' type='checkbox'><label for='data-d8c1b594-2548-46ce-b167-974879f4dee4' title='Show/Hide data repr'><svg class='icon xr-icon-database'><use xlink:href='#icon-database'></use></svg></label><div class='xr-var-attrs'><dl class='xr-attrs'><dt><span>long_name :</span></dt><dd>mask</dd><dt><span>flag_meanings :</span></dt><dd>ocean ice_free_land grounded_ice floating_ice lake_vostok</dd><dt><span>flag_values :</span></dt><dd>[0 1 2 3 4]</dd><dt><span>grid_mapping :</span></dt><dd>lambert_azimuthal_equal_area</dd></dl></div><div class='xr-var-data'><table>\n    <tr>\n        <td>\n            <table style=\"border-collapse: collapse;\">\n                <thead>\n                    <tr>\n                        <td> </td>\n                        <th> Array </th>\n                        <th> Chunk </th>\n                    </tr>\n                </thead>\n                <tbody>\n                    \n                    <tr>\n                        <th> Bytes </th>\n                        <td> 612.50 kiB </td>\n                        <td> 612.50 kiB </td>\n                    </tr>\n                    \n                    <tr>\n                        <th> Shape </th>\n                        <td> (280, 280) </td>\n                        <td> (280, 280) </td>\n                    </tr>\n                    <tr>\n                        <th> Dask graph </th>\n                        <td colspan=\"2\"> 1 chunks in 2 graph layers </td>\n                    </tr>\n                    <tr>\n                        <th> Data type </th>\n                        <td colspan=\"2\"> float64 numpy.ndarray </td>\n                    </tr>\n                </tbody>\n            </table>\n        </td>\n        <td>\n        <svg width=\"170\" height=\"170\" style=\"stroke:rgb(0,0,0);stroke-width:1\" >\n\n  <!-- Horizontal lines -->\n  <line x1=\"0\" y1=\"0\" x2=\"120\" y2=\"0\" style=\"stroke-width:2\" />\n  <line x1=\"0\" y1=\"120\" x2=\"120\" y2=\"120\" style=\"stroke-width:2\" />\n\n  <!-- Vertical lines -->\n  <line x1=\"0\" y1=\"0\" x2=\"0\" y2=\"120\" style=\"stroke-width:2\" />\n  <line x1=\"120\" y1=\"0\" x2=\"120\" y2=\"120\" style=\"stroke-width:2\" />\n\n  <!-- Colored Rectangle -->\n  <polygon points=\"0.0,0.0 120.0,0.0 120.0,120.0 0.0,120.0\" style=\"fill:#ECB172A0;stroke-width:0\"/>\n\n  <!-- Text -->\n  <text x=\"60.000000\" y=\"140.000000\" font-size=\"1.0rem\" font-weight=\"100\" text-anchor=\"middle\" >280</text>\n  <text x=\"140.000000\" y=\"60.000000\" font-size=\"1.0rem\" font-weight=\"100\" text-anchor=\"middle\" transform=\"rotate(-90,140.000000,60.000000)\">280</text>\n</svg>\n        </td>\n    </tr>\n</table></div></li></ul></div></li><li class='xr-section-item'><input id='section-bca24fac-1c94-46f6-a4fa-b4e95d7557fb' class='xr-section-summary-in' type='checkbox'  ><label for='section-bca24fac-1c94-46f6-a4fa-b4e95d7557fb' class='xr-section-summary' >Indexes: <span>(2)</span></label><div class='xr-section-inline-details'></div><div class='xr-section-details'><ul class='xr-var-list'><li class='xr-var-item'><div class='xr-index-name'><div>y</div></div><div class='xr-index-preview'>PandasIndex</div><div></div><input id='index-488a0df8-e9e1-4115-a203-34ecd62177be' class='xr-index-data-in' type='checkbox'/><label for='index-488a0df8-e9e1-4115-a203-34ecd62177be' title='Show/Hide index repr'><svg class='icon xr-icon-database'><use xlink:href='#icon-database'></use></svg></label><div class='xr-index-data'><pre>PandasIndex(Index([ 3487500.0,  3462500.0,  3437500.0,  3412500.0,  3387500.0,  3362500.0,\n        3337500.0,  3312500.0,  3287500.0,  3262500.0,\n       ...\n       -3262500.0, -3287500.0, -3312500.0, -3337500.0, -3362500.0, -3387500.0,\n       -3412500.0, -3437500.0, -3462500.0, -3487500.0],\n      dtype=&#x27;float64&#x27;, name=&#x27;y&#x27;, length=280))</pre></div></li><li class='xr-var-item'><div class='xr-index-name'><div>x</div></div><div class='xr-index-preview'>PandasIndex</div><div></div><input id='index-8d9ec7a4-5526-42e8-9bd4-50306406647e' class='xr-index-data-in' type='checkbox'/><label for='index-8d9ec7a4-5526-42e8-9bd4-50306406647e' title='Show/Hide index repr'><svg class='icon xr-icon-database'><use xlink:href='#icon-database'></use></svg></label><div class='xr-index-data'><pre>PandasIndex(Index([-3487500.0, -3462500.0, -3437500.0, -3412500.0, -3387500.0, -3362500.0,\n       -3337500.0, -3312500.0, -3287500.0, -3262500.0,\n       ...\n        3262500.0,  3287500.0,  3312500.0,  3337500.0,  3362500.0,  3387500.0,\n        3412500.0,  3437500.0,  3462500.0,  3487500.0],\n      dtype=&#x27;float64&#x27;, name=&#x27;x&#x27;, length=280))</pre></div></li></ul></div></li><li class='xr-section-item'><input id='section-6a7464f2-ec82-43a7-9c1e-050265c08c7b' class='xr-section-summary-in' type='checkbox'  ><label for='section-6a7464f2-ec82-43a7-9c1e-050265c08c7b' class='xr-section-summary' >Attributes: <span>(19)</span></label><div class='xr-section-inline-details'></div><div class='xr-section-details'><dl class='xr-attrs'><dt><span>Author :</span></dt><dd>Mathieu Morlighem</dd><dt><span>Data_citation :</span></dt><dd>Morlighem M. et al., (2019), Deep glacial troughs and stabilizing ridges unveiled beneath the margins of the Antarctic ice sheet, Nature Geoscience (accepted)</dd><dt><span>Notes :</span></dt><dd>Data processed at the Department of Earth System Science, University of California, Irvine</dd><dt><span>Projection :</span></dt><dd>Polar Stereographic South (71S,0E)</dd><dt><span>Title :</span></dt><dd>BedMachine Antarctica</dd><dt><span>ice_density (kg m-3) :</span></dt><dd>917.0</dd><dt><span>license :</span></dt><dd>No restrictions on access or use</dd><dt><span>no_data :</span></dt><dd>-9999.0</dd><dt><span>nx :</span></dt><dd>13333.0</dd><dt><span>ny :</span></dt><dd>13333.0</dd><dt><span>proj4 :</span></dt><dd>+init=epsg:3031</dd><dt><span>sea_water_density (kg m-3) :</span></dt><dd>1027.0</dd><dt><span>source :</span></dt><dd>Antarctic Digital Database (rock outcrop) and Jeremie Mouginot (pers. comm., grounding lines)</dd><dt><span>spacing :</span></dt><dd>500</dd><dt><span>valid_range :</span></dt><dd>[0. 4.]</dd><dt><span>version :</span></dt><dd>15-Jul-2020 (v2.0)</dd><dt><span>xmin :</span></dt><dd>-3333000</dd><dt><span>ymax :</span></dt><dd>3333000</dd><dt><span>Conventions :</span></dt><dd>CF-1.7</dd></dl></div></li></ul></div></div>"
     },
     "execution_count": 10,
     "metadata": {},
     "output_type": "execute_result"
    }
   ],
   "source": [
    "aux_raw_ds = xr.open_mfdataset('../../deepsensor_old/data/antarctica/auxiliary/interim/*25000m/*.nc')\n",
    "aux_raw_ds = aux_raw_ds[['surface', 'mask']]\n",
    "aux_raw_ds"
   ],
   "metadata": {
    "collapsed": false,
    "ExecuteTime": {
     "end_time": "2023-07-05T15:06:36.791585227Z",
     "start_time": "2023-07-05T15:06:36.475619301Z"
    }
   }
  },
  {
   "cell_type": "code",
   "execution_count": 15,
   "outputs": [
    {
     "data": {
      "text/plain": "                                                               tas\ntime       y             x             station                    \n1948-04-01 -3.638593e+06  1.401585e+06 Macquarie_Island   5.885714\n1948-04-02 -3.638593e+06  1.401585e+06 Macquarie_Island   6.675000\n1948-04-03 -3.638593e+06  1.401585e+06 Macquarie_Island   4.775000\n1948-04-04 -3.638593e+06  1.401585e+06 Macquarie_Island   5.150000\n1948-04-05 -3.638593e+06  1.401585e+06 Macquarie_Island   4.037500\n...                                                            ...\n2022-06-14  1.447591e+06 -6.904655e+05 Halley_6a        -22.577778\n2022-06-15  5.380525e+05 -1.606516e+06 Sky_Blu          -26.587500\n            8.072843e+05 -1.351549e+06 Limbert          -23.887500\n            9.270759e+05 -2.308923e+06 Rothera           -9.895833\n            9.847784e+05 -1.717203e+06 Butler Island    -19.669524\n\n[941850 rows x 1 columns]",
      "text/html": "<div>\n<style scoped>\n    .dataframe tbody tr th:only-of-type {\n        vertical-align: middle;\n    }\n\n    .dataframe tbody tr th {\n        vertical-align: top;\n    }\n\n    .dataframe thead th {\n        text-align: right;\n    }\n</style>\n<table border=\"1\" class=\"dataframe\">\n  <thead>\n    <tr style=\"text-align: right;\">\n      <th></th>\n      <th></th>\n      <th></th>\n      <th></th>\n      <th>tas</th>\n    </tr>\n    <tr>\n      <th>time</th>\n      <th>y</th>\n      <th>x</th>\n      <th>station</th>\n      <th></th>\n    </tr>\n  </thead>\n  <tbody>\n    <tr>\n      <th>1948-04-01</th>\n      <th>-3.638593e+06</th>\n      <th>1.401585e+06</th>\n      <th>Macquarie_Island</th>\n      <td>5.885714</td>\n    </tr>\n    <tr>\n      <th>1948-04-02</th>\n      <th>-3.638593e+06</th>\n      <th>1.401585e+06</th>\n      <th>Macquarie_Island</th>\n      <td>6.675000</td>\n    </tr>\n    <tr>\n      <th>1948-04-03</th>\n      <th>-3.638593e+06</th>\n      <th>1.401585e+06</th>\n      <th>Macquarie_Island</th>\n      <td>4.775000</td>\n    </tr>\n    <tr>\n      <th>1948-04-04</th>\n      <th>-3.638593e+06</th>\n      <th>1.401585e+06</th>\n      <th>Macquarie_Island</th>\n      <td>5.150000</td>\n    </tr>\n    <tr>\n      <th>1948-04-05</th>\n      <th>-3.638593e+06</th>\n      <th>1.401585e+06</th>\n      <th>Macquarie_Island</th>\n      <td>4.037500</td>\n    </tr>\n    <tr>\n      <th>...</th>\n      <th>...</th>\n      <th>...</th>\n      <th>...</th>\n      <td>...</td>\n    </tr>\n    <tr>\n      <th>2022-06-14</th>\n      <th>1.447591e+06</th>\n      <th>-6.904655e+05</th>\n      <th>Halley_6a</th>\n      <td>-22.577778</td>\n    </tr>\n    <tr>\n      <th rowspan=\"4\" valign=\"top\">2022-06-15</th>\n      <th>5.380525e+05</th>\n      <th>-1.606516e+06</th>\n      <th>Sky_Blu</th>\n      <td>-26.587500</td>\n    </tr>\n    <tr>\n      <th>8.072843e+05</th>\n      <th>-1.351549e+06</th>\n      <th>Limbert</th>\n      <td>-23.887500</td>\n    </tr>\n    <tr>\n      <th>9.270759e+05</th>\n      <th>-2.308923e+06</th>\n      <th>Rothera</th>\n      <td>-9.895833</td>\n    </tr>\n    <tr>\n      <th>9.847784e+05</th>\n      <th>-1.717203e+06</th>\n      <th>Butler Island</th>\n      <td>-19.669524</td>\n    </tr>\n  </tbody>\n</table>\n<p>941850 rows × 1 columns</p>\n</div>"
     },
     "execution_count": 15,
     "metadata": {},
     "output_type": "execute_result"
    }
   ],
   "source": [
    "station_raw_df = pd.read_csv('../../deepsensor_old/data/antarctica/station/interim/XY_station.csv')\n",
    "station_raw_df = station_raw_df.rename(columns={'date': 'time'})\n",
    "station_raw_df['time'] = pd.to_datetime(station_raw_df['time'])\n",
    "station_raw_df = station_raw_df.set_index(['time', 'y', 'x', 'station']).sort_index()[['tas']]\n",
    "station_raw_df"
   ],
   "metadata": {
    "collapsed": false,
    "ExecuteTime": {
     "end_time": "2023-07-05T15:07:55.235676160Z",
     "start_time": "2023-07-05T15:07:53.322971882Z"
    }
   }
  },
  {
   "cell_type": "markdown",
   "source": [
    "## Normalise data"
   ],
   "metadata": {
    "collapsed": false
   }
  },
  {
   "cell_type": "code",
   "execution_count": 16,
   "outputs": [],
   "source": [
    "data_processor = DataProcessor(x1_name='y', x1_map=(0, 3.5e6), x2_name='x', x2_map=(0, 3.5e6))"
   ],
   "metadata": {
    "collapsed": false,
    "ExecuteTime": {
     "end_time": "2023-07-05T15:07:57.217360686Z",
     "start_time": "2023-07-05T15:07:57.179443824Z"
    }
   }
  },
  {
   "cell_type": "code",
   "execution_count": 17,
   "outputs": [],
   "source": [
    "era5_ds, station_df = data_processor([era5_raw_ds, station_raw_df])\n",
    "aux_ds = data_processor(aux_raw_ds, method=\"min_max\")"
   ],
   "metadata": {
    "collapsed": false,
    "ExecuteTime": {
     "end_time": "2023-07-05T15:08:29.784453499Z",
     "start_time": "2023-07-05T15:07:57.372428301Z"
    }
   }
  },
  {
   "cell_type": "markdown",
   "source": [
    "## Let's load some tasks!"
   ],
   "metadata": {
    "collapsed": false
   }
  },
  {
   "cell_type": "markdown",
   "source": [
    "### ERA5 spatial interpolation\n",
    "\n",
    "A spatial interapolation model can be trained by randomly sampling grid cells from `xarray` objects, which is simple to do with `TaskLoader`."
   ],
   "metadata": {
    "collapsed": false
   }
  },
  {
   "cell_type": "code",
   "execution_count": 23,
   "outputs": [
    {
     "name": "stdout",
     "output_type": "stream",
     "text": [
      "Continuous and linear, time taken: 12.62 s\n",
      "Continuous and nearest, time taken: 12.23 s\n",
      "Discrete, time taken: 3.78 s\n"
     ]
    }
   ],
   "source": [
    "import time\n",
    "task_loader = TaskLoader(context=era5_ds['t2m'], target=era5_ds['t2m'], xarray_interp_method=\"linear\", discrete_xarray_sampling=False)\n",
    "tic = time.time()\n",
    "for i in range(1000):\n",
    "    task = task_loader(date, 0.1, 0.1)\n",
    "print(f\"Continuous and linear, time taken: {time.time() - tic:.2f} s\")\n",
    "\n",
    "import time\n",
    "task_loader = TaskLoader(context=era5_ds['t2m'], target=era5_ds['t2m'], xarray_interp_method=\"nearest\", discrete_xarray_sampling=False)\n",
    "tic = time.time()\n",
    "for i in range(1000):\n",
    "    task = task_loader(date, 0.1, 0.1)\n",
    "print(f\"Continuous and nearest, time taken: {time.time() - tic:.2f} s\")\n",
    "\n",
    "task_loader = TaskLoader(context=era5_ds['t2m'], target=era5_ds['t2m'], discrete_xarray_sampling=True)\n",
    "tic = time.time()\n",
    "for i in range(1000):\n",
    "    task = task_loader(date, 0.1, 0.1)\n",
    "print(f\"Discrete, time taken: {time.time() - tic:.2f} s\")"
   ],
   "metadata": {
    "collapsed": false,
    "ExecuteTime": {
     "end_time": "2023-07-05T15:12:18.729811230Z",
     "start_time": "2023-07-05T15:11:30.901953943Z"
    }
   }
  },
  {
   "cell_type": "code",
   "execution_count": null,
   "outputs": [],
   "source": [
    "task_loader = TaskLoader(context=[era5_ds['t2m'], aux_ds], target=era5_ds['t2m'])\n",
    "print(task_loader)"
   ],
   "metadata": {
    "collapsed": false,
    "ExecuteTime": {
     "start_time": "2023-07-05T15:07:29.949532283Z"
    }
   }
  },
  {
   "cell_type": "code",
   "execution_count": null,
   "metadata": {},
   "outputs": [],
   "source": [
    "model = ConvNP(data_processor, task_loader, verbose=False)\n",
    "task = task_loader(date, (0.1, \"all\"), \"all\")\n",
    "print(task)"
   ]
  },
  {
   "cell_type": "code",
   "execution_count": null,
   "outputs": [],
   "source": [
    "fig = deepsensor.plot.context_encoding(model, task, task_loader)\n",
    "plt.show()"
   ],
   "metadata": {
    "collapsed": false
   }
  },
  {
   "cell_type": "markdown",
   "source": [
    "### Station spatial interpolation\n",
    "\n",
    "Generating interpolation tasks from `pandas` station data is slightly more involved than with `xarray` gridded data. We must set up a 'link' between the station context set and the station target set when instantiating the `TaskLoader`. This is used for splitting the data into context and target sets when generating `Task`s from the `TaskLoader`."
   ],
   "metadata": {
    "collapsed": false
   }
  },
  {
   "cell_type": "code",
   "execution_count": null,
   "outputs": [],
   "source": [
    "task_loader = TaskLoader(context=[station_df, aux_ds], target=station_df, links=[(0, 0)])\n",
    "print(task_loader)"
   ],
   "metadata": {
    "collapsed": false
   }
  },
  {
   "cell_type": "code",
   "execution_count": null,
   "outputs": [],
   "source": [
    "model = ConvNP(data_processor, task_loader, verbose=False)\n",
    "task = task_loader(date, (\"split\", \"all\"), \"split\", split_frac=0.7)\n",
    "print(task)"
   ],
   "metadata": {
    "collapsed": false
   }
  },
  {
   "cell_type": "code",
   "execution_count": null,
   "outputs": [],
   "source": [
    "fig, ax = plt.subplots(1, 1, figsize=(7, 7), subplot_kw=dict(projection=ccrs.LambertAzimuthalEqualArea(0, -90)))\n",
    "ax.set_extent([-3.5e6, 3.5e6, -3.5e6, 3.5e6], crs=ccrs.LambertAzimuthalEqualArea(0, -90))\n",
    "ax.stock_img()\n",
    "ax.coastlines(linewidth=0.25)\n",
    "deepsensor.plot.offgrid_context(ax, task, data_processor, task_loader, plot_target=True, add_legend=True, linewidths=0.5)\n",
    "plt.show()"
   ],
   "metadata": {
    "collapsed": false
   }
  },
  {
   "cell_type": "code",
   "execution_count": null,
   "outputs": [],
   "source": [
    "# Zoom-in on the station context set\n",
    "fig = deepsensor.plot.context_encoding(model, task, task_loader, context_set_idxs=0, size=7, return_axes=True)\n",
    "plt.show()"
   ],
   "metadata": {
    "collapsed": false
   }
  },
  {
   "cell_type": "code",
   "execution_count": null,
   "outputs": [],
   "source": [
    "# Plot the whole encoding\n",
    "fig = deepsensor.plot.context_encoding(model, task, task_loader)\n",
    "plt.show()"
   ],
   "metadata": {
    "collapsed": false
   }
  },
  {
   "cell_type": "markdown",
   "source": [
    "### ERA5 forecasting\n",
    "\n",
    "Using the `context_delta_t` and `target_delta_t` arguments, you can specify a time difference between the context and target.\n",
    "In this case, we generate a task where the context is the current and previous time step and the target is the next time step.\n",
    "\n",
    "By printing the `repr` of the `TaskLoader` object, we get more verbose variable IDs showing the time indexes of the context and target sets."
   ],
   "metadata": {
    "collapsed": false
   }
  },
  {
   "cell_type": "code",
   "execution_count": null,
   "outputs": [],
   "source": [
    "task_loader = TaskLoader(context=[era5_ds['t2m'], era5_ds['t2m'], aux_ds], target=era5_ds['t2m'],\n",
    "                         context_delta_t=[-1, 0, 0], target_delta_t=1)\n",
    "print(repr(task_loader))"
   ],
   "metadata": {
    "collapsed": false
   }
  },
  {
   "cell_type": "code",
   "execution_count": null,
   "outputs": [],
   "source": [
    "model = ConvNP(data_processor, task_loader, verbose=False)\n",
    "task = task_loader(date, \"all\", \"all\")\n",
    "print(task)"
   ],
   "metadata": {
    "collapsed": false
   }
  },
  {
   "cell_type": "code",
   "execution_count": null,
   "outputs": [],
   "source": [
    "fig = deepsensor.plot.context_encoding(model, task, task_loader)\n",
    "plt.show()"
   ],
   "metadata": {
    "collapsed": false
   }
  },
  {
   "cell_type": "markdown",
   "source": [
    "### ERA5 downscaling using station targets\n",
    "\n",
    "We will pass the station data as the target set. This set-up can be used to train a model to downscale gridded data to station data.\n",
    "\n",
    "TODO: Passing hi-res auxiliary information via an Anna-style output MLP is not currently supported."
   ],
   "metadata": {
    "collapsed": false
   }
  },
  {
   "cell_type": "code",
   "execution_count": null,
   "outputs": [],
   "source": [
    "task_loader = TaskLoader(context=[era5_ds['t2m'], aux_ds], target=station_df)\n",
    "print(task_loader)"
   ],
   "metadata": {
    "collapsed": false
   }
  },
  {
   "cell_type": "code",
   "execution_count": null,
   "outputs": [],
   "source": [
    "model = ConvNP(data_processor, task_loader, verbose=False)\n",
    "task = task_loader(date, \"all\", \"all\")\n",
    "print(task)"
   ],
   "metadata": {
    "collapsed": false
   }
  },
  {
   "cell_type": "code",
   "execution_count": null,
   "outputs": [],
   "source": [
    "fig = deepsensor.plot.context_encoding(model, task, task_loader)\n",
    "plt.show()"
   ],
   "metadata": {
    "collapsed": false
   }
  },
  {
   "cell_type": "code",
   "execution_count": null,
   "outputs": [],
   "source": [
    "fig, ax = plt.subplots(1, 1, figsize=(7, 7), subplot_kw=dict(projection=ccrs.LambertAzimuthalEqualArea(0, -90)))\n",
    "ax.set_extent([-3.5e6, 3.5e6, -3.5e6, 3.5e6], crs=ccrs.LambertAzimuthalEqualArea(0, -90))\n",
    "ax.stock_img()\n",
    "ax.coastlines(linewidth=0.25)\n",
    "deepsensor.plot.offgrid_context(ax, task, data_processor, task_loader, plot_target=True, add_legend=True, linewidths=0.5)\n",
    "plt.show()"
   ],
   "metadata": {
    "collapsed": false
   }
  },
  {
   "cell_type": "markdown",
   "source": [
    "### TODO: Satellite data interpolation"
   ],
   "metadata": {
    "collapsed": false
   }
  },
  {
   "cell_type": "markdown",
   "source": [
    "## What's missing?\n",
    "\n",
    "Is some functionality missing that you would like to see? Please open an issue on the [GitHub repository](https://github.com/tom-andersson/deepsensor/tree/main).\n",
    "\n"
   ],
   "metadata": {
    "collapsed": false
   }
  },
  {
   "cell_type": "code",
   "execution_count": null,
   "outputs": [],
   "source": [],
   "metadata": {
    "collapsed": false
   }
  }
 ],
 "metadata": {
  "kernelspec": {
   "display_name": "Python 3 (ipykernel)",
   "language": "python",
   "name": "python3"
  },
  "language_info": {
   "codemirror_mode": {
    "name": "ipython",
    "version": 3
   },
   "file_extension": ".py",
   "mimetype": "text/x-python",
   "name": "python",
   "nbconvert_exporter": "python",
   "pygments_lexer": "ipython3",
   "version": "3.11.3"
  }
 },
 "nbformat": 4,
 "nbformat_minor": 1
}
