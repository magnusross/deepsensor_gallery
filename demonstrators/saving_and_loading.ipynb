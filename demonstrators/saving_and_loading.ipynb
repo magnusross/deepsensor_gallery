{
 "cells": [
  {
   "cell_type": "markdown",
   "metadata": {},
   "source": [
    "# Saving and loading in DeepSensor\n",
    "\n",
    "This notebook demonstrates how to use saving and loading functionality in DeepSensor. The three key DeepSensor classes: the `DataProcessor`, `TaskLoader`, and `ConvNP`, can all be saved and loaded. Internally, config files are used to track the state of each class, and these config files are saved alongside the model weights (for the `ConvNP`)."
   ]
  },
  {
   "cell_type": "code",
   "execution_count": 1,
   "metadata": {
    "ExecuteTime": {
     "end_time": "2023-09-07T14:16:02.678090457Z",
     "start_time": "2023-09-07T14:15:51.851528056Z"
    }
   },
   "outputs": [],
   "source": [
    "import logging\n",
    "logging.captureWarnings(True)\n",
    "\n",
    "import os\n",
    "\n",
    "import deepsensor.torch\n",
    "from deepsensor.data.loader import TaskLoader\n",
    "from deepsensor.data.processor import DataProcessor\n",
    "from deepsensor.model.convnp import ConvNP\n",
    "\n",
    "import xarray as xr\n",
    "import pandas as pd"
   ]
  },
  {
   "cell_type": "code",
   "execution_count": 2,
   "outputs": [],
   "source": [
    "folder = f\"tmp_{pd.Timestamp.now().strftime('%Y%m%d_%H%M%S')}\"\n",
    "os.makedirs(folder, exist_ok=True)"
   ],
   "metadata": {
    "collapsed": false,
    "ExecuteTime": {
     "end_time": "2023-09-07T14:16:02.689175425Z",
     "start_time": "2023-09-07T14:16:02.685865429Z"
    }
   }
  },
  {
   "cell_type": "markdown",
   "source": [
    "## Load raw data"
   ],
   "metadata": {
    "collapsed": false
   }
  },
  {
   "cell_type": "code",
   "execution_count": 3,
   "metadata": {
    "ExecuteTime": {
     "end_time": "2023-09-07T14:16:04.488075598Z",
     "start_time": "2023-09-07T14:16:02.693691761Z"
    }
   },
   "outputs": [],
   "source": [
    "ds_raw = xr.tutorial.open_dataset(\"air_temperature\")"
   ]
  },
  {
   "cell_type": "markdown",
   "source": [
    "## Normalise/preprocess data"
   ],
   "metadata": {
    "collapsed": false
   }
  },
  {
   "cell_type": "code",
   "execution_count": 4,
   "metadata": {
    "ExecuteTime": {
     "end_time": "2023-09-07T14:16:04.588159422Z",
     "start_time": "2023-09-07T14:16:04.493799803Z"
    }
   },
   "outputs": [
    {
     "name": "stdout",
     "output_type": "stream",
     "text": [
      "Normalisation params for air not computed. Computing now... Done. air mean_std params={'mean': 281.255126953125, 'std': 16.320409774780273}\n",
      "Inferring x1_map=(15.0, 75.0) and x2_map=(200.0, 330.0) from data min/max\n"
     ]
    }
   ],
   "source": [
    "data_processor = DataProcessor(x1_name=\"lat\", x2_name=\"lon\", verbose=True)\n",
    "ds = data_processor(ds_raw)"
   ]
  },
  {
   "cell_type": "markdown",
   "source": [
    "## NEW: Save normalised data for TaskLoader"
   ],
   "metadata": {
    "collapsed": false
   }
  },
  {
   "cell_type": "code",
   "execution_count": 5,
   "outputs": [],
   "source": [
    "t2m_fpath = f\"{folder}/air_temperature_normalised.nc\"\n",
    "ds.to_netcdf(t2m_fpath)"
   ],
   "metadata": {
    "collapsed": false,
    "ExecuteTime": {
     "end_time": "2023-09-07T14:16:04.920934889Z",
     "start_time": "2023-09-07T14:16:04.592196479Z"
    }
   }
  },
  {
   "cell_type": "markdown",
   "source": [
    "## Set up TaskLoader\n",
    "\n",
    "We must instantiate the `TaskLoader` with *paths* rather than the xarray object, so that the `TaskLoader` can be saved and loaded."
   ],
   "metadata": {
    "collapsed": false
   }
  },
  {
   "cell_type": "code",
   "execution_count": 6,
   "metadata": {
    "ExecuteTime": {
     "end_time": "2023-09-07T14:16:05.000245119Z",
     "start_time": "2023-09-07T14:16:04.925149317Z"
    }
   },
   "outputs": [],
   "source": [
    "task_loader = TaskLoader(context=t2m_fpath, target=t2m_fpath)"
   ]
  },
  {
   "cell_type": "markdown",
   "source": [
    "## Set up ConvNP model"
   ],
   "metadata": {
    "collapsed": false
   }
  },
  {
   "cell_type": "code",
   "execution_count": 7,
   "metadata": {
    "ExecuteTime": {
     "end_time": "2023-09-07T14:16:05.042647209Z",
     "start_time": "2023-09-07T14:16:05.024684051Z"
    }
   },
   "outputs": [],
   "source": [
    "model = ConvNP(data_processor, task_loader, unet_channels=(32,)*3, verbose=False)"
   ]
  },
  {
   "cell_type": "code",
   "execution_count": 8,
   "outputs": [],
   "source": [
    "test_task = task_loader(\"2014-12-31\", 40, datewise_deterministic=True)\n",
    "mean_ds_before, std_ds_before = model.predict(test_task, X_t=ds_raw)"
   ],
   "metadata": {
    "collapsed": false,
    "ExecuteTime": {
     "end_time": "2023-09-07T14:16:05.676313244Z",
     "start_time": "2023-09-07T14:16:05.046876712Z"
    }
   }
  },
  {
   "cell_type": "markdown",
   "source": [
    "## Save the DataProcessor, TaskLoader, and ConvNP"
   ],
   "metadata": {
    "collapsed": false
   }
  },
  {
   "cell_type": "code",
   "execution_count": 9,
   "outputs": [],
   "source": [
    "data_processor.save(folder)\n",
    "task_loader.save(folder)\n",
    "model.save(folder)"
   ],
   "metadata": {
    "collapsed": false,
    "ExecuteTime": {
     "end_time": "2023-09-07T14:16:05.691010614Z",
     "start_time": "2023-09-07T14:16:05.677719393Z"
    }
   }
  },
  {
   "cell_type": "markdown",
   "source": [
    "## Load the DataProcessor, TaskLoader, and ConvNP"
   ],
   "metadata": {
    "collapsed": false
   }
  },
  {
   "cell_type": "code",
   "execution_count": 10,
   "outputs": [],
   "source": [
    "data_processor_loaded = DataProcessor(folder)\n",
    "task_loader_loaded = TaskLoader(folder)\n",
    "model_loaded = ConvNP(data_processor, task_loader, folder)"
   ],
   "metadata": {
    "collapsed": false,
    "ExecuteTime": {
     "end_time": "2023-09-07T14:16:05.781386999Z",
     "start_time": "2023-09-07T14:16:05.691123737Z"
    }
   }
  },
  {
   "cell_type": "code",
   "execution_count": 11,
   "outputs": [],
   "source": [
    "test_task = task_loader_loaded(\"2014-12-31\", 40, datewise_deterministic=True)\n",
    "mean_ds_loaded, std_ds_loaded = model_loaded.predict(test_task, X_t=ds_raw)"
   ],
   "metadata": {
    "collapsed": false,
    "ExecuteTime": {
     "end_time": "2023-09-07T14:16:05.821792575Z",
     "start_time": "2023-09-07T14:16:05.790757562Z"
    }
   }
  },
  {
   "cell_type": "code",
   "execution_count": 12,
   "outputs": [
    {
     "name": "stdout",
     "output_type": "stream",
     "text": [
      "Means match\n"
     ]
    }
   ],
   "source": [
    "xr.testing.assert_allclose(mean_ds_before, mean_ds_loaded)\n",
    "print(\"Means match\")"
   ],
   "metadata": {
    "collapsed": false,
    "ExecuteTime": {
     "end_time": "2023-09-07T14:16:05.822029600Z",
     "start_time": "2023-09-07T14:16:05.818483921Z"
    }
   }
  },
  {
   "cell_type": "code",
   "execution_count": 13,
   "outputs": [
    {
     "name": "stdout",
     "output_type": "stream",
     "text": [
      "Standard deviations match\n"
     ]
    }
   ],
   "source": [
    "xr.testing.assert_allclose(std_ds_before, std_ds_loaded)\n",
    "print(\"Standard deviations match\")"
   ],
   "metadata": {
    "collapsed": false,
    "ExecuteTime": {
     "end_time": "2023-09-07T14:16:05.826383436Z",
     "start_time": "2023-09-07T14:16:05.823393939Z"
    }
   }
  },
  {
   "cell_type": "markdown",
   "source": [
    "## Delete temporary folder"
   ],
   "metadata": {
    "collapsed": false
   }
  },
  {
   "cell_type": "code",
   "execution_count": 14,
   "outputs": [],
   "source": [
    "import shutil\n",
    "shutil.rmtree(folder)"
   ],
   "metadata": {
    "collapsed": false,
    "ExecuteTime": {
     "end_time": "2023-09-07T14:16:05.841734303Z",
     "start_time": "2023-09-07T14:16:05.826569557Z"
    }
   }
  },
  {
   "cell_type": "code",
   "execution_count": 14,
   "outputs": [],
   "source": [],
   "metadata": {
    "collapsed": false,
    "ExecuteTime": {
     "end_time": "2023-09-07T14:16:05.860105078Z",
     "start_time": "2023-09-07T14:16:05.843519181Z"
    }
   }
  }
 ],
 "metadata": {
  "kernelspec": {
   "display_name": "Python 3 (ipykernel)",
   "language": "python",
   "name": "python3"
  },
  "language_info": {
   "codemirror_mode": {
    "name": "ipython",
    "version": 3
   },
   "file_extension": ".py",
   "mimetype": "text/x-python",
   "name": "python",
   "nbconvert_exporter": "python",
   "pygments_lexer": "ipython3",
   "version": "3.11.4"
  }
 },
 "nbformat": 4,
 "nbformat_minor": 1
}
